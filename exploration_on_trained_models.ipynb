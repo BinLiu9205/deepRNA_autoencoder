{
 "cells": [
  {
   "cell_type": "code",
   "execution_count": 111,
   "metadata": {},
   "outputs": [],
   "source": [
    "import numpy as np\n",
    "import pandas as pd\n",
    "import matplotlib.pyplot as plt\n",
    "import seaborn as sns\n",
    "import ast\n",
    "%matplotlib inline    \n"
   ]
  },
  {
   "cell_type": "code",
   "execution_count": 112,
   "metadata": {},
   "outputs": [],
   "source": [
    "sample_file = pd.read_csv('/mnt/dzl_bioinf/binliu/deepRNA/major_revision/model_information/model_and_parameter_information.csv')"
   ]
  },
  {
   "cell_type": "code",
   "execution_count": 113,
   "metadata": {},
   "outputs": [
    {
     "data": {
      "text/plain": [
       "Index(['Run ID', 'Run Name', 'Model File Name', 'Config', 'Summary',\n",
       "       'Download Path', 'Whether Sweep', 'Tags'],\n",
       "      dtype='object')"
      ]
     },
     "execution_count": 113,
     "metadata": {},
     "output_type": "execute_result"
    }
   ],
   "source": [
    "sample_file.columns"
   ]
  },
  {
   "cell_type": "code",
   "execution_count": 114,
   "metadata": {},
   "outputs": [
    {
     "data": {
      "text/plain": [
       "(array([ 3.,  0.,  3.,  0., 47.,  0.,  3.,  0.,  3., 12.]),\n",
       " array([0. , 0.5, 1. , 1.5, 2. , 2.5, 3. , 3.5, 4. , 4.5, 5. ]),\n",
       " <BarContainer object of 10 artists>)"
      ]
     },
     "execution_count": 114,
     "metadata": {},
     "output_type": "execute_result"
    },
    {
     "data": {
      "image/png": "[encoded data removed]",
      "text/plain": [
       "<Figure size 432x288 with 1 Axes>"
      ]
     },
     "metadata": {
      "needs_background": "light"
     },
     "output_type": "display_data"
    }
   ],
   "source": [
    "plt.hist(sample_file['Tags'], orientation=\"horizontal\")"
   ]
  },
  {
   "cell_type": "code",
   "execution_count": 115,
   "metadata": {},
   "outputs": [
    {
     "data": {
      "text/html": [
       "<div>\n",
       "<style scoped>\n",
       "    .dataframe tbody tr th:only-of-type {\n",
       "        vertical-align: middle;\n",
       "    }\n",
       "\n",
       "    .dataframe tbody tr th {\n",
       "        vertical-align: top;\n",
       "    }\n",
       "\n",
       "    .dataframe thead th {\n",
       "        text-align: right;\n",
       "    }\n",
       "</style>\n",
       "<table border=\"1\" class=\"dataframe\">\n",
       "  <thead>\n",
       "    <tr style=\"text-align: right;\">\n",
       "      <th></th>\n",
       "      <th>Run ID</th>\n",
       "      <th>Run Name</th>\n",
       "      <th>Model File Name</th>\n",
       "      <th>Config</th>\n",
       "      <th>Summary</th>\n",
       "      <th>Download Path</th>\n",
       "      <th>Whether Sweep</th>\n",
       "      <th>Tags</th>\n",
       "    </tr>\n",
       "  </thead>\n",
       "  <tbody>\n",
       "    <tr>\n",
       "      <th>0</th>\n",
       "      <td>40st3s32</td>\n",
       "      <td>driven-serenity-334</td>\n",
       "      <td>priorVAE_dynamic_model_40st3s32_MSigDB_zscore.pth</td>\n",
       "      <td>{'model': {'latent_dim': 50, 'encoder_config':...</td>\n",
       "      <td>{'_runtime': 8842.714842796326, '_timestamp': ...</td>\n",
       "      <td>/mnt/dzl_bioinf/binliu/deepRNA/major_revision/...</td>\n",
       "      <td>No</td>\n",
       "      <td>['MSigDB', 'new_structure_success', 'no_wildca...</td>\n",
       "    </tr>\n",
       "    <tr>\n",
       "      <th>1</th>\n",
       "      <td>mxdk7t21</td>\n",
       "      <td>swift-energy-333</td>\n",
       "      <td>priorVAE_dynamic_model_mxdk7t21_MSigDB_zscore.pth</td>\n",
       "      <td>{'model': {'latent_dim': 50, 'encoder_config':...</td>\n",
       "      <td>{'_runtime': 8793.23987531662, 'epoch_test_los...</td>\n",
       "      <td>/mnt/dzl_bioinf/binliu/deepRNA/major_revision/...</td>\n",
       "      <td>No</td>\n",
       "      <td>['MSigDB', 'new_structure_success', 'no_wildca...</td>\n",
       "    </tr>\n",
       "    <tr>\n",
       "      <th>2</th>\n",
       "      <td>r0ei40eo</td>\n",
       "      <td>distinctive-donkey-332</td>\n",
       "      <td>priorVAE_dynamic_model_r0ei40eo_MSigDB_zscore.pth</td>\n",
       "      <td>{'model': {'latent_dim': 50, 'encoder_config':...</td>\n",
       "      <td>{'_wandb': {'runtime': 8834}, '_runtime': 8834...</td>\n",
       "      <td>/mnt/dzl_bioinf/binliu/deepRNA/major_revision/...</td>\n",
       "      <td>No</td>\n",
       "      <td>['MSigDB', 'new_structure_success', 'no_wildca...</td>\n",
       "    </tr>\n",
       "    <tr>\n",
       "      <th>3</th>\n",
       "      <td>em2fqtg9</td>\n",
       "      <td>exalted-jazz-331</td>\n",
       "      <td>priorVAE_dynamic_model_em2fqtg9_kegg_no_normal...</td>\n",
       "      <td>{'model': {'latent_dim': 50, 'encoder_config':...</td>\n",
       "      <td>{'epoch_recon_train_loss': 2578.8801667929492,...</td>\n",
       "      <td>/mnt/dzl_bioinf/binliu/deepRNA/major_revision/...</td>\n",
       "      <td>No</td>\n",
       "      <td>['MSigDB', 'new_structure_success', 'no_normal...</td>\n",
       "    </tr>\n",
       "    <tr>\n",
       "      <th>4</th>\n",
       "      <td>8k6xrlks</td>\n",
       "      <td>expert-sweep-15</td>\n",
       "      <td>priorVAE_dynamic_model_8k6xrlks.pth</td>\n",
       "      <td>{'model': {'latent_dim': 50, 'n_features_path'...</td>\n",
       "      <td>{'_wandb': {'runtime': 1867}, 'epoch_test_loss...</td>\n",
       "      <td>/mnt/dzl_bioinf/binliu/deepRNA/major_revision/...</td>\n",
       "      <td>Yes</td>\n",
       "      <td>['MSigDB', 'new_structure_success', 'no_normal...</td>\n",
       "    </tr>\n",
       "  </tbody>\n",
       "</table>\n",
       "</div>"
      ],
      "text/plain": [
       "     Run ID                Run Name  \\\n",
       "0  40st3s32     driven-serenity-334   \n",
       "1  mxdk7t21        swift-energy-333   \n",
       "2  r0ei40eo  distinctive-donkey-332   \n",
       "3  em2fqtg9        exalted-jazz-331   \n",
       "4  8k6xrlks         expert-sweep-15   \n",
       "\n",
       "                                     Model File Name  \\\n",
       "0  priorVAE_dynamic_model_40st3s32_MSigDB_zscore.pth   \n",
       "1  priorVAE_dynamic_model_mxdk7t21_MSigDB_zscore.pth   \n",
       "2  priorVAE_dynamic_model_r0ei40eo_MSigDB_zscore.pth   \n",
       "3  priorVAE_dynamic_model_em2fqtg9_kegg_no_normal...   \n",
       "4                priorVAE_dynamic_model_8k6xrlks.pth   \n",
       "\n",
       "                                              Config  \\\n",
       "0  {'model': {'latent_dim': 50, 'encoder_config':...   \n",
       "1  {'model': {'latent_dim': 50, 'encoder_config':...   \n",
       "2  {'model': {'latent_dim': 50, 'encoder_config':...   \n",
       "3  {'model': {'latent_dim': 50, 'encoder_config':...   \n",
       "4  {'model': {'latent_dim': 50, 'n_features_path'...   \n",
       "\n",
       "                                             Summary  \\\n",
       "0  {'_runtime': 8842.714842796326, '_timestamp': ...   \n",
       "1  {'_runtime': 8793.23987531662, 'epoch_test_los...   \n",
       "2  {'_wandb': {'runtime': 8834}, '_runtime': 8834...   \n",
       "3  {'epoch_recon_train_loss': 2578.8801667929492,...   \n",
       "4  {'_wandb': {'runtime': 1867}, 'epoch_test_loss...   \n",
       "\n",
       "                                       Download Path Whether Sweep  \\\n",
       "0  /mnt/dzl_bioinf/binliu/deepRNA/major_revision/...            No   \n",
       "1  /mnt/dzl_bioinf/binliu/deepRNA/major_revision/...            No   \n",
       "2  /mnt/dzl_bioinf/binliu/deepRNA/major_revision/...            No   \n",
       "3  /mnt/dzl_bioinf/binliu/deepRNA/major_revision/...            No   \n",
       "4  /mnt/dzl_bioinf/binliu/deepRNA/major_revision/...           Yes   \n",
       "\n",
       "                                                Tags  \n",
       "0  ['MSigDB', 'new_structure_success', 'no_wildca...  \n",
       "1  ['MSigDB', 'new_structure_success', 'no_wildca...  \n",
       "2  ['MSigDB', 'new_structure_success', 'no_wildca...  \n",
       "3  ['MSigDB', 'new_structure_success', 'no_normal...  \n",
       "4  ['MSigDB', 'new_structure_success', 'no_normal...  "
      ]
     },
     "execution_count": 115,
     "metadata": {},
     "output_type": "execute_result"
    }
   ],
   "source": [
    "sample_file.head(5)"
   ]
  },
  {
   "cell_type": "code",
   "execution_count": 116,
   "metadata": {},
   "outputs": [],
   "source": [
    "index_of_interest = [i for i in range(sample_file.shape[0]) if ('sweep' in sample_file['Tags'][i]) and ('betas' in sample_file['Tags'][i])]"
   ]
  },
  {
   "cell_type": "code",
   "execution_count": 117,
   "metadata": {},
   "outputs": [
    {
     "data": {
      "text/plain": [
       "12"
      ]
     },
     "execution_count": 117,
     "metadata": {},
     "output_type": "execute_result"
    }
   ],
   "source": [
    "len(index_of_interest)"
   ]
  },
  {
   "cell_type": "code",
   "execution_count": 118,
   "metadata": {},
   "outputs": [],
   "source": [
    "new_index_of_interest = [i for i in range(sample_file.shape[0]) if (str(sample_file['Tags'][i]) == \"['MSigDB', 'new_structure_success', 'no_normalization', 'no_wildcard']\") and (str(250) in sample_file['Config'][i])]"
   ]
  },
  {
   "cell_type": "code",
   "execution_count": 119,
   "metadata": {},
   "outputs": [
    {
     "data": {
      "text/plain": [
       "1"
      ]
     },
     "execution_count": 119,
     "metadata": {},
     "output_type": "execute_result"
    }
   ],
   "source": [
    "len(new_index_of_interest)"
   ]
  },
  {
   "cell_type": "code",
   "execution_count": 120,
   "metadata": {},
   "outputs": [],
   "source": [
    "overall_index_of_interest = new_index_of_interest + index_of_interest"
   ]
  },
  {
   "cell_type": "code",
   "execution_count": 121,
   "metadata": {},
   "outputs": [
    {
     "data": {
      "text/plain": [
       "[7, 56, 57, 58, 59, 60, 62, 63, 65, 66, 67, 68, 69]"
      ]
     },
     "execution_count": 121,
     "metadata": {},
     "output_type": "execute_result"
    }
   ],
   "source": [
    "overall_index_of_interest"
   ]
  },
  {
   "cell_type": "markdown",
   "metadata": {},
   "source": [
    "The most relevant experiments to the prior/latent dimension correlation is the betas sweep and the MSigDB new struction_success one with beta = 250 (which was not included in the prior at all). We select the models in this file to draw the boxplot and other metrics"
   ]
  },
  {
   "cell_type": "code",
   "execution_count": 122,
   "metadata": {},
   "outputs": [],
   "source": [
    "beta_sweep_file = sample_file.iloc[overall_index_of_interest]"
   ]
  },
  {
   "cell_type": "code",
   "execution_count": 123,
   "metadata": {},
   "outputs": [
    {
     "data": {
      "text/plain": [
       "(13, 8)"
      ]
     },
     "execution_count": 123,
     "metadata": {},
     "output_type": "execute_result"
    }
   ],
   "source": [
    "beta_sweep_file.shape"
   ]
  },
  {
   "cell_type": "code",
   "execution_count": 124,
   "metadata": {},
   "outputs": [
    {
     "data": {
      "text/html": [
       "<div>\n",
       "<style scoped>\n",
       "    .dataframe tbody tr th:only-of-type {\n",
       "        vertical-align: middle;\n",
       "    }\n",
       "\n",
       "    .dataframe tbody tr th {\n",
       "        vertical-align: top;\n",
       "    }\n",
       "\n",
       "    .dataframe thead th {\n",
       "        text-align: right;\n",
       "    }\n",
       "</style>\n",
       "<table border=\"1\" class=\"dataframe\">\n",
       "  <thead>\n",
       "    <tr style=\"text-align: right;\">\n",
       "      <th></th>\n",
       "      <th>Run ID</th>\n",
       "      <th>Run Name</th>\n",
       "      <th>Model File Name</th>\n",
       "      <th>Config</th>\n",
       "      <th>Summary</th>\n",
       "      <th>Download Path</th>\n",
       "      <th>Whether Sweep</th>\n",
       "      <th>Tags</th>\n",
       "    </tr>\n",
       "  </thead>\n",
       "  <tbody>\n",
       "    <tr>\n",
       "      <th>7</th>\n",
       "      <td>mmwhl929</td>\n",
       "      <td>robust-night-327</td>\n",
       "      <td>priorVAE_dynamic_model_mmwhl929_kegg_no_normal...</td>\n",
       "      <td>{'model': {'latent_dim': 50, 'encoder_config':...</td>\n",
       "      <td>{'_wandb': {'runtime': 8851}, '_timestamp': 17...</td>\n",
       "      <td>/mnt/dzl_bioinf/binliu/deepRNA/major_revision/...</td>\n",
       "      <td>No</td>\n",
       "      <td>['MSigDB', 'new_structure_success', 'no_normal...</td>\n",
       "    </tr>\n",
       "    <tr>\n",
       "      <th>56</th>\n",
       "      <td>m4kyravz</td>\n",
       "      <td>kind-sweep-12</td>\n",
       "      <td>priorVAE_dynamic_model_m4kyravz.pth</td>\n",
       "      <td>{'model': {'latent_dim': 50, 'encoder_config':...</td>\n",
       "      <td>{'epoch_kl_train_loss': 0.26834216622154683, '...</td>\n",
       "      <td>/mnt/dzl_bioinf/binliu/deepRNA/major_revision/...</td>\n",
       "      <td>Yes</td>\n",
       "      <td>['MSigDB', 'betas', 'new_structure_success', '...</td>\n",
       "    </tr>\n",
       "    <tr>\n",
       "      <th>57</th>\n",
       "      <td>uf100vsx</td>\n",
       "      <td>eager-sweep-11</td>\n",
       "      <td>priorVAE_dynamic_model_uf100vsx.pth</td>\n",
       "      <td>{'model': {'latent_dim': 50, 'encoder_config':...</td>\n",
       "      <td>{'epoch_recon_test_loss': 14063.324183710083, ...</td>\n",
       "      <td>/mnt/dzl_bioinf/binliu/deepRNA/major_revision/...</td>\n",
       "      <td>Yes</td>\n",
       "      <td>['MSigDB', 'betas', 'new_structure_success', '...</td>\n",
       "    </tr>\n",
       "    <tr>\n",
       "      <th>58</th>\n",
       "      <td>edil514t</td>\n",
       "      <td>northern-sweep-10</td>\n",
       "      <td>priorVAE_dynamic_model_edil514t.pth</td>\n",
       "      <td>{'model': {'latent_dim': 50, 'encoder_config':...</td>\n",
       "      <td>{'epoch_train_loss': 16407.166319389056, 'epoc...</td>\n",
       "      <td>/mnt/dzl_bioinf/binliu/deepRNA/major_revision/...</td>\n",
       "      <td>Yes</td>\n",
       "      <td>['MSigDB', 'betas', 'new_structure_success', '...</td>\n",
       "    </tr>\n",
       "    <tr>\n",
       "      <th>59</th>\n",
       "      <td>0d7y0uh0</td>\n",
       "      <td>sweet-sweep-9</td>\n",
       "      <td>priorVAE_dynamic_model_0d7y0uh0.pth</td>\n",
       "      <td>{'model': {'latent_dim': 50, 'encoder_config':...</td>\n",
       "      <td>{'_wandb': {'runtime': 1776}, 'epoch_train_los...</td>\n",
       "      <td>/mnt/dzl_bioinf/binliu/deepRNA/major_revision/...</td>\n",
       "      <td>Yes</td>\n",
       "      <td>['MSigDB', 'betas', 'new_structure_success', '...</td>\n",
       "    </tr>\n",
       "  </tbody>\n",
       "</table>\n",
       "</div>"
      ],
      "text/plain": [
       "      Run ID           Run Name  \\\n",
       "7   mmwhl929   robust-night-327   \n",
       "56  m4kyravz      kind-sweep-12   \n",
       "57  uf100vsx     eager-sweep-11   \n",
       "58  edil514t  northern-sweep-10   \n",
       "59  0d7y0uh0      sweet-sweep-9   \n",
       "\n",
       "                                      Model File Name  \\\n",
       "7   priorVAE_dynamic_model_mmwhl929_kegg_no_normal...   \n",
       "56                priorVAE_dynamic_model_m4kyravz.pth   \n",
       "57                priorVAE_dynamic_model_uf100vsx.pth   \n",
       "58                priorVAE_dynamic_model_edil514t.pth   \n",
       "59                priorVAE_dynamic_model_0d7y0uh0.pth   \n",
       "\n",
       "                                               Config  \\\n",
       "7   {'model': {'latent_dim': 50, 'encoder_config':...   \n",
       "56  {'model': {'latent_dim': 50, 'encoder_config':...   \n",
       "57  {'model': {'latent_dim': 50, 'encoder_config':...   \n",
       "58  {'model': {'latent_dim': 50, 'encoder_config':...   \n",
       "59  {'model': {'latent_dim': 50, 'encoder_config':...   \n",
       "\n",
       "                                              Summary  \\\n",
       "7   {'_wandb': {'runtime': 8851}, '_timestamp': 17...   \n",
       "56  {'epoch_kl_train_loss': 0.26834216622154683, '...   \n",
       "57  {'epoch_recon_test_loss': 14063.324183710083, ...   \n",
       "58  {'epoch_train_loss': 16407.166319389056, 'epoc...   \n",
       "59  {'_wandb': {'runtime': 1776}, 'epoch_train_los...   \n",
       "\n",
       "                                        Download Path Whether Sweep  \\\n",
       "7   /mnt/dzl_bioinf/binliu/deepRNA/major_revision/...            No   \n",
       "56  /mnt/dzl_bioinf/binliu/deepRNA/major_revision/...           Yes   \n",
       "57  /mnt/dzl_bioinf/binliu/deepRNA/major_revision/...           Yes   \n",
       "58  /mnt/dzl_bioinf/binliu/deepRNA/major_revision/...           Yes   \n",
       "59  /mnt/dzl_bioinf/binliu/deepRNA/major_revision/...           Yes   \n",
       "\n",
       "                                                 Tags  \n",
       "7   ['MSigDB', 'new_structure_success', 'no_normal...  \n",
       "56  ['MSigDB', 'betas', 'new_structure_success', '...  \n",
       "57  ['MSigDB', 'betas', 'new_structure_success', '...  \n",
       "58  ['MSigDB', 'betas', 'new_structure_success', '...  \n",
       "59  ['MSigDB', 'betas', 'new_structure_success', '...  "
      ]
     },
     "execution_count": 124,
     "metadata": {},
     "output_type": "execute_result"
    }
   ],
   "source": [
    "beta_sweep_file.head()"
   ]
  },
  {
   "cell_type": "code",
   "execution_count": 125,
   "metadata": {},
   "outputs": [],
   "source": [
    "beta_val = []\n",
    "for i in range(len(beta_sweep_file)):\n",
    "    config_str = beta_sweep_file['Config'].iloc[i]\n",
    "    config_dict = ast.literal_eval(config_str) \n",
    "    if 'beta' in config_dict['training']:\n",
    "        beta = config_dict['training']['beta']\n",
    "    else:\n",
    "        beta = config_dict['training.beta']\n",
    "    beta_val.append(beta)\n",
    "\n",
    "\n"
   ]
  },
  {
   "cell_type": "code",
   "execution_count": 126,
   "metadata": {},
   "outputs": [
    {
     "name": "stderr",
     "output_type": "stream",
     "text": [
      "/mnt/dzl_bioinf/exec/python_lib/pyTorch_GPU/lib/python3.7/site-packages/pandas/core/indexing.py:1667: SettingWithCopyWarning: \n",
      "A value is trying to be set on a copy of a slice from a DataFrame.\n",
      "Try using .loc[row_indexer,col_indexer] = value instead\n",
      "\n",
      "See the caveats in the documentation: https://pandas.pydata.org/pandas-docs/stable/user_guide/indexing.html#returning-a-view-versus-a-copy\n",
      "  self.obj[key] = value\n"
     ]
    }
   ],
   "source": [
    "for i in range(len(beta_sweep_file)):\n",
    "    beta_sweep_file.loc[i, 'beta'] = beta_val[i]"
   ]
  },
  {
   "cell_type": "code",
   "execution_count": 129,
   "metadata": {},
   "outputs": [],
   "source": [
    "beta_sweep_file_sorted = beta_sweep_file.sort_values(by='beta', ascending=True)"
   ]
  },
  {
   "cell_type": "code",
   "execution_count": 130,
   "metadata": {},
   "outputs": [],
   "source": [
    "beta_sweep_file_sorted.to_csv('/mnt/dzl_bioinf/binliu/deepRNA/major_revision/model_information/beta_relevant_models.csv', header=True)"
   ]
  }
 ],
 "metadata": {
  "kernelspec": {
   "display_name": "Python 3 (ipykernel)",
   "language": "python",
   "name": "python3"
  },
  "orig_nbformat": 4
 },
 "nbformat": 4,
 "nbformat_minor": 2
}
