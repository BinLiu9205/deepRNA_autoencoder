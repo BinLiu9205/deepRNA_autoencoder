{
 "cells": [
  {
   "cell_type": "markdown",
   "metadata": {},
   "source": [
    "# Exploration of samplewise expression variance within different input sets"
   ]
  },
  {
   "cell_type": "markdown",
   "metadata": {},
   "source": [
    "The aim of this script is to explore the distribution of the variance of genes across different samples and test whether genes with highest variances are relatively stable within train and test data"
   ]
  },
  {
   "cell_type": "code",
   "execution_count": 17,
   "metadata": {},
   "outputs": [],
   "source": [
    "import numpy as np\n",
    "import matplotlib.pyplot as plt\n",
    "import seaborn as sns\n",
    "import os\n",
    "from math import ceil"
   ]
  },
  {
   "cell_type": "code",
   "execution_count": 2,
   "metadata": {},
   "outputs": [],
   "source": [
    "column_index_file = os.listdir(\"/mnt/dzl_bioinf/binliu/deepRNA/data_all_samples/gene_level_gene_variance/\")\n",
    "npy_files = [file for file in column_index_file if file.endswith('.npy')]"
   ]
  },
  {
   "cell_type": "code",
   "execution_count": 3,
   "metadata": {},
   "outputs": [],
   "source": [
    "npy_files = [os.path.join(\"/mnt/dzl_bioinf/binliu/deepRNA/data_all_samples/gene_level_gene_variance/\", path) for path in npy_files]"
   ]
  },
  {
   "cell_type": "code",
   "execution_count": 4,
   "metadata": {},
   "outputs": [
    {
     "data": {
      "text/plain": [
       "['/mnt/dzl_bioinf/binliu/deepRNA/data_all_samples/gene_level_gene_variance/gene_level_no_zscore_normalization_train_variance_descending_sorted_index.npy',\n",
       " '/mnt/dzl_bioinf/binliu/deepRNA/data_all_samples/gene_level_gene_variance/gene_level_no_zscore_normalization_test_variance_descending_sorted_index.npy',\n",
       " '/mnt/dzl_bioinf/binliu/deepRNA/data_all_samples/gene_level_gene_variance/gene_level_with_zscore_normalization_train_variance_descending_sorted_index.npy',\n",
       " '/mnt/dzl_bioinf/binliu/deepRNA/data_all_samples/gene_level_gene_variance/gene_level_with_zscore_normalization_test_variance_descending_sorted_index.npy']"
      ]
     },
     "execution_count": 4,
     "metadata": {},
     "output_type": "execute_result"
    }
   ],
   "source": [
    "npy_files"
   ]
  },
  {
   "cell_type": "code",
   "execution_count": 5,
   "metadata": {},
   "outputs": [],
   "source": [
    "no_zscore_train = np.load(npy_files[0], allow_pickle=True)\n",
    "no_zscore_test = np.load(npy_files[1], allow_pickle=True)\n",
    "zscore_train = np.load(npy_files[2], allow_pickle=True)\n",
    "zscore_test = np.load(npy_files[3], allow_pickle=True)\n",
    "    "
   ]
  },
  {
   "cell_type": "code",
   "execution_count": 6,
   "metadata": {},
   "outputs": [],
   "source": [
    "def count_same_elements_at_same_positions(*lists):\n",
    "    # Initialize the counter\n",
    "    count = 0\n",
    "\n",
    "    # Use zip to iterate over lists in parallel\n",
    "    for elements in zip(*lists):\n",
    "        # Check if all elements in this position are the same\n",
    "        if all(element == elements[0] for element in elements):\n",
    "            count += 1\n",
    "\n",
    "    return count\n"
   ]
  },
  {
   "cell_type": "code",
   "execution_count": 7,
   "metadata": {},
   "outputs": [],
   "source": [
    "whole_list_length = len(no_zscore_test)"
   ]
  },
  {
   "cell_type": "markdown",
   "metadata": {},
   "source": [
    "## Compare between those with and without zscores"
   ]
  },
  {
   "cell_type": "code",
   "execution_count": 8,
   "metadata": {},
   "outputs": [
    {
     "name": "stdout",
     "output_type": "stream",
     "text": [
      "There are 0.291 percents of genes following the same order between train data sets with and without zscores\n"
     ]
    }
   ],
   "source": [
    "print(\"There are {} percents of genes following the same order between train data sets with and without zscores\"\\\n",
    "    .format(round(count_same_elements_at_same_positions(no_zscore_train, zscore_train)/whole_list_length*100,3)))"
   ]
  },
  {
   "cell_type": "code",
   "execution_count": 9,
   "metadata": {},
   "outputs": [
    {
     "name": "stdout",
     "output_type": "stream",
     "text": [
      "There are 0.304 percents of genes following the same order between test data sets with and without zscores\n"
     ]
    }
   ],
   "source": [
    "print(\"There are {} percents of genes following the same order between test data sets with and without zscores\"\\\n",
    "    .format(round(count_same_elements_at_same_positions(no_zscore_test, zscore_test)/whole_list_length*100,3)))"
   ]
  },
  {
   "cell_type": "markdown",
   "metadata": {},
   "source": [
    "## Compare between train and test sets with the same normalization strategies"
   ]
  },
  {
   "cell_type": "code",
   "execution_count": 10,
   "metadata": {},
   "outputs": [
    {
     "name": "stdout",
     "output_type": "stream",
     "text": [
      "There are 0.411 percents of genes following the same order between train data set and test data set without zscore\n"
     ]
    }
   ],
   "source": [
    "print(\"There are {} percents of genes following the same order between train data set and test data set without zscore\"\\\n",
    "    .format(round(count_same_elements_at_same_positions(no_zscore_train, no_zscore_test)/whole_list_length*100,3)))"
   ]
  },
  {
   "cell_type": "code",
   "execution_count": 11,
   "metadata": {},
   "outputs": [
    {
     "name": "stdout",
     "output_type": "stream",
     "text": [
      "There are 0.368 percents of genes following the same order between train data set and test data set with zscore\n"
     ]
    }
   ],
   "source": [
    "print(\"There are {} percents of genes following the same order between train data set and test data set with zscore\"\\\n",
    "    .format(round(count_same_elements_at_same_positions(zscore_train, zscore_test)/whole_list_length*100,3)))"
   ]
  },
  {
   "cell_type": "markdown",
   "metadata": {},
   "source": [
    "The exact order of the genes are quite different given the nature of the data sets. However, what matters the most is whether those genes follow more or less in the same range (genes with high variance are always in that range and so it is with those middle variance and low variance genes).\n",
    "Because we have a gene list of roughly a few hundred genes, it would be meaningful to check the distribution of the results based on a split of 100 genes to see how well the gene matches in this round "
   ]
  },
  {
   "cell_type": "code",
   "execution_count": 25,
   "metadata": {},
   "outputs": [],
   "source": [
    "def count_overlapped_elements_in_lists(*lists):\n",
    "    # Convert the first list to a set\n",
    "    common_elements = set(lists[0])\n",
    "\n",
    "    # Find intersection with the sets of the remaining lists\n",
    "    for lst in lists[1:]:\n",
    "        common_elements &= set(lst)\n",
    "\n",
    "    # The length of common_elements is the count of overlapped elements\n",
    "    return len(common_elements)"
   ]
  },
  {
   "cell_type": "markdown",
   "metadata": {},
   "source": [
    "## Compare between those with and without zscores"
   ]
  },
  {
   "cell_type": "code",
   "execution_count": 27,
   "metadata": {},
   "outputs": [],
   "source": [
    "bins_range = 100\n",
    "bins_num = ceil(whole_list_length/bins_range)\n",
    "average_coverage_set1 = []\n",
    "average_coverage_set2 = []"
   ]
  },
  {
   "cell_type": "code",
   "execution_count": 28,
   "metadata": {},
   "outputs": [],
   "source": [
    "for i in range(bins_num):\n",
    "    if i != bins_num:\n",
    "        overlapped_elements_set1 = count_overlapped_elements_in_lists(\n",
    "            no_zscore_train[100*i:100*(i+1)], zscore_train[100*i:100*(i+1)])/100\n",
    "        overlapped_elements_set2 = count_overlapped_elements_in_lists(\n",
    "            no_zscore_test[100*i:100*(i+1)], zscore_test[100*i:100*(i+1)])/100\n",
    "        \n",
    "    else: \n",
    "        overlapped_elements_set1 = count_overlapped_elements_in_lists(\n",
    "            no_zscore_train[100*i:len(no_zscore_train)], \n",
    "            zscore_train[100*i:len(zscore_train)])/(len(no_zscore_train)-100*i)\n",
    "        overlapped_elements_set2 = count_overlapped_elements_in_lists(\n",
    "            no_zscore_test[100*i:len(no_zscore_test)], \n",
    "            zscore_test[100*i:len(zscore_test)])/(len(no_zscore_test)-100*i)\n",
    "        \n",
    "    average_coverage_set1.append(overlapped_elements_set1)\n",
    "    average_coverage_set2.append(overlapped_elements_set2)\n",
    "        "
   ]
  },
  {
   "cell_type": "code",
   "execution_count": 32,
   "metadata": {},
   "outputs": [
    {
     "data": {
      "text/plain": [
       "(array([109.,  57.,  32.,  15.,   4.,   6.,   6.,   1.,   2.,   2.]),\n",
       " array([0.02 , 0.113, 0.206, 0.299, 0.392, 0.485, 0.578, 0.671, 0.764,\n",
       "        0.857, 0.95 ]),\n",
       " <BarContainer object of 10 artists>)"
      ]
     },
     "execution_count": 32,
     "metadata": {},
     "output_type": "execute_result"
    },
    {
     "data": {
      "image/png": "[encoded data removed]",
      "text/plain": [
       "<Figure size 432x288 with 1 Axes>"
      ]
     },
     "metadata": {
      "needs_background": "light"
     },
     "output_type": "display_data"
    }
   ],
   "source": [
    "plt.hist(average_coverage_set1, bins=10, edgecolor='black')"
   ]
  },
  {
   "cell_type": "code",
   "execution_count": 33,
   "metadata": {},
   "outputs": [
    {
     "data": {
      "text/plain": [
       "(array([113.,  58.,  28.,  14.,   4.,   5.,   7.,   0.,   3.,   2.]),\n",
       " array([0.02 , 0.113, 0.206, 0.299, 0.392, 0.485, 0.578, 0.671, 0.764,\n",
       "        0.857, 0.95 ]),\n",
       " <BarContainer object of 10 artists>)"
      ]
     },
     "execution_count": 33,
     "metadata": {},
     "output_type": "execute_result"
    },
    {
     "data": {
      "image/png": "[encoded data removed]",
      "text/plain": [
       "<Figure size 432x288 with 1 Axes>"
      ]
     },
     "metadata": {
      "needs_background": "light"
     },
     "output_type": "display_data"
    }
   ],
   "source": [
    "plt.hist(average_coverage_set2, bins=10, edgecolor='black')"
   ]
  },
  {
   "cell_type": "code",
   "execution_count": 36,
   "metadata": {},
   "outputs": [
    {
     "data": {
      "text/plain": [
       "<matplotlib.collections.PathCollection at 0x7f6ee88ff250>"
      ]
     },
     "execution_count": 36,
     "metadata": {},
     "output_type": "execute_result"
    },
    {
     "data": {
      "image/png": "[encoded data removed]",
      "text/plain": [
       "<Figure size 432x288 with 1 Axes>"
      ]
     },
     "metadata": {
      "needs_background": "light"
     },
     "output_type": "display_data"
    }
   ],
   "source": [
    "plt.scatter(range(len(average_coverage_set1)), average_coverage_set1)"
   ]
  },
  {
   "cell_type": "code",
   "execution_count": 37,
   "metadata": {},
   "outputs": [
    {
     "data": {
      "text/plain": [
       "<matplotlib.collections.PathCollection at 0x7f6ee86dcd90>"
      ]
     },
     "execution_count": 37,
     "metadata": {},
     "output_type": "execute_result"
    },
    {
     "data": {
      "image/png": "[encoded data removed]",
      "text/plain": [
       "<Figure size 432x288 with 1 Axes>"
      ]
     },
     "metadata": {
      "needs_background": "light"
     },
     "output_type": "display_data"
    }
   ],
   "source": [
    "plt.scatter(range(len(average_coverage_set2)), average_coverage_set2)"
   ]
  },
  {
   "cell_type": "markdown",
   "metadata": {},
   "source": [
    "## Compare between train and test sets with the same normalization strategies"
   ]
  },
  {
   "cell_type": "code",
   "execution_count": 39,
   "metadata": {},
   "outputs": [],
   "source": [
    "bins_range = 100\n",
    "bins_num = ceil(whole_list_length/bins_range)\n",
    "average_coverage_set1 = []\n",
    "average_coverage_set2 = []"
   ]
  },
  {
   "cell_type": "code",
   "execution_count": 40,
   "metadata": {},
   "outputs": [],
   "source": [
    "for i in range(bins_num):\n",
    "    if i != bins_num:\n",
    "        overlapped_elements_set1 = count_overlapped_elements_in_lists(\n",
    "            no_zscore_train[100*i:100*(i+1)], no_zscore_test[100*i:100*(i+1)])/100\n",
    "        overlapped_elements_set2 = count_overlapped_elements_in_lists(\n",
    "            zscore_train[100*i:100*(i+1)], zscore_test[100*i:100*(i+1)])/100\n",
    "        \n",
    "    else: \n",
    "        overlapped_elements_set1 = count_overlapped_elements_in_lists(\n",
    "            no_zscore_train[100*i:len(no_zscore_train)], \n",
    "            no_zscore_test[100*i:len(zscore_train)])/(len(no_zscore_train)-100*i)\n",
    "        overlapped_elements_set2 = count_overlapped_elements_in_lists(\n",
    "            zscore_train[100*i:len(no_zscore_test)], \n",
    "            zscore_test[100*i:len(zscore_test)])/(len(no_zscore_test)-100*i)\n",
    "        \n",
    "    average_coverage_set1.append(overlapped_elements_set1)\n",
    "    average_coverage_set2.append(overlapped_elements_set2)"
   ]
  },
  {
   "cell_type": "code",
   "execution_count": 41,
   "metadata": {},
   "outputs": [
    {
     "data": {
      "text/plain": [
       "(array([68., 90., 41.,  6., 13.,  5.,  2.,  5.,  1.,  3.]),\n",
       " array([0.07, 0.16, 0.25, 0.34, 0.43, 0.52, 0.61, 0.7 , 0.79, 0.88, 0.97]),\n",
       " <BarContainer object of 10 artists>)"
      ]
     },
     "execution_count": 41,
     "metadata": {},
     "output_type": "execute_result"
    },
    {
     "data": {
      "image/png": "[encoded data removed]",
      "text/plain": [
       "<Figure size 432x288 with 1 Axes>"
      ]
     },
     "metadata": {
      "needs_background": "light"
     },
     "output_type": "display_data"
    }
   ],
   "source": [
    "plt.hist(average_coverage_set1, bins=10, edgecolor='black')"
   ]
  },
  {
   "cell_type": "code",
   "execution_count": 42,
   "metadata": {},
   "outputs": [
    {
     "data": {
      "text/plain": [
       "(array([93., 76., 30., 10.,  7.,  8.,  3.,  3.,  1.,  3.]),\n",
       " array([0.09 , 0.177, 0.264, 0.351, 0.438, 0.525, 0.612, 0.699, 0.786,\n",
       "        0.873, 0.96 ]),\n",
       " <BarContainer object of 10 artists>)"
      ]
     },
     "execution_count": 42,
     "metadata": {},
     "output_type": "execute_result"
    },
    {
     "data": {
      "image/png": "[encoded data removed]",
      "text/plain": [
       "<Figure size 432x288 with 1 Axes>"
      ]
     },
     "metadata": {
      "needs_background": "light"
     },
     "output_type": "display_data"
    }
   ],
   "source": [
    "plt.hist(average_coverage_set2, bins=10, edgecolor='black')"
   ]
  },
  {
   "cell_type": "code",
   "execution_count": 43,
   "metadata": {},
   "outputs": [
    {
     "data": {
      "text/plain": [
       "<matplotlib.collections.PathCollection at 0x7f6ee8535e10>"
      ]
     },
     "execution_count": 43,
     "metadata": {},
     "output_type": "execute_result"
    },
    {
     "data": {
      "image/png": "[encoded data removed]",
      "text/plain": [
       "<Figure size 432x288 with 1 Axes>"
      ]
     },
     "metadata": {
      "needs_background": "light"
     },
     "output_type": "display_data"
    }
   ],
   "source": [
    "plt.scatter(range(len(average_coverage_set1)), average_coverage_set1)"
   ]
  },
  {
   "cell_type": "code",
   "execution_count": 44,
   "metadata": {},
   "outputs": [
    {
     "data": {
      "text/plain": [
       "<matplotlib.collections.PathCollection at 0x7f6ee84e3490>"
      ]
     },
     "execution_count": 44,
     "metadata": {},
     "output_type": "execute_result"
    },
    {
     "data": {
      "image/png": "[encoded data removed]",
      "text/plain": [
       "<Figure size 432x288 with 1 Axes>"
      ]
     },
     "metadata": {
      "needs_background": "light"
     },
     "output_type": "display_data"
    }
   ],
   "source": [
    "plt.scatter(range(len(average_coverage_set2)), average_coverage_set2)"
   ]
  },
  {
   "cell_type": "markdown",
   "metadata": {},
   "source": [
    "The most highly expressed genes and most lowly expressed genes are stable across samples and robust to normalization, which is not surprising. When we run the new pathway permutation, we should take this into consideration -- we should take the same setting at least for training and testing, so that would be important we not to get too involved with the genes with middle expression levels since these might behave differently in training and testing. "
   ]
  }
 ],
 "metadata": {
  "kernelspec": {
   "display_name": "Python 3 (ipykernel)",
   "language": "python",
   "name": "python3"
  },
  "language_info": {
   "codemirror_mode": {
    "name": "ipython",
    "version": 3
   },
   "file_extension": ".py",
   "mimetype": "text/x-python",
   "name": "python",
   "nbconvert_exporter": "python",
   "pygments_lexer": "ipython3",
   "version": "3.7.12"
  },
  "orig_nbformat": 4
 },
 "nbformat": 4,
 "nbformat_minor": 2
}
