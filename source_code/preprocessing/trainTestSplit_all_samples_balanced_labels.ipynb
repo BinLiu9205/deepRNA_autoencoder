{
 "cells": [
  {
   "cell_type": "code",
   "execution_count": 1,
   "metadata": {},
   "outputs": [],
   "source": [
    "import numpy as np\n",
    "import pandas as pd\n",
    "from sklearn.model_selection import train_test_split\n",
    "import os"
   ]
  },
  {
   "cell_type": "markdown",
   "metadata": {},
   "source": [
    "## An irrelevant test to check whether pickle is better than csv "
   ]
  },
  {
   "cell_type": "code",
   "execution_count": 2,
   "metadata": {},
   "outputs": [],
   "source": [
    "trial_pkl =  pd.read_pickle(\n",
    "    '/mnt/dzl_bioinf/binliu/deepRNA/data_all_samples/all_samples_community_level.pkl')\n"
   ]
  },
  {
   "cell_type": "code",
   "execution_count": 3,
   "metadata": {},
   "outputs": [],
   "source": [
    "trial_csv = trial_pkl.to_csv('/mnt/dzl_bioinf/binliu/deepRNA/data_all_samples/all_samples_transcript_level_csv_format.csv')\n"
   ]
  },
  {
   "cell_type": "code",
   "execution_count": 23,
   "metadata": {},
   "outputs": [
    {
     "name": "stdout",
     "output_type": "stream",
     "text": [
      "File size of pkl file is 433 MB, that of the csv file is 949 MB\n"
     ]
    }
   ],
   "source": [
    "import os\n",
    "file_stat_pkl = os.stat(\n",
    "    '/mnt/dzl_bioinf/binliu/deepRNA/data_all_samples/all_samples_community_level.pkl').st_size\n",
    "file_stat_csv = os.stat(\n",
    "    '/mnt/dzl_bioinf/binliu/deepRNA/data_all_samples/all_samples_transcript_level_csv_format.csv').st_size\n",
    "print(\"File size of pkl file is {} MB, that of the csv file is {} MB\".format(\n",
    "    round(file_stat_pkl/(1024*1024)), round(file_stat_csv/(1024*1024))))\n"
   ]
  },
  {
   "cell_type": "code",
   "execution_count": 5,
   "metadata": {},
   "outputs": [],
   "source": [
    "trial_csv = pd.read_csv(\n",
    "    '/mnt/dzl_bioinf/binliu/deepRNA/data_all_samples/all_samples_transcript_level_csv_format.csv')\n"
   ]
  },
  {
   "cell_type": "markdown",
   "metadata": {},
   "source": [
    "Pickle is much faster than csv and uses up smaller space on the disk. "
   ]
  },
  {
   "cell_type": "markdown",
   "metadata": {},
   "source": [
    "## Train Test split for all related results"
   ]
  },
  {
   "cell_type": "code",
   "execution_count": 6,
   "metadata": {},
   "outputs": [],
   "source": [
    "annotate_tem = pd.read_excel(\n",
    "    \"/mnt/dzl_bioinf/binliu/EMBL_ExpressionArray/arrayExpress_annotation.xlsx\")"
   ]
  },
  {
   "cell_type": "code",
   "execution_count": 7,
   "metadata": {},
   "outputs": [
    {
     "data": {
      "text/plain": [
       "0               lung\n",
       "1              ovary\n",
       "2              colon\n",
       "3              colon\n",
       "4               lung\n",
       "            ...     \n",
       "27882          brain\n",
       "27883          brain\n",
       "27884          brain\n",
       "27885    bone marrow\n",
       "27886    bone marrow\n",
       "Name: Characteristics[organism part], Length: 27887, dtype: object"
      ]
     },
     "execution_count": 7,
     "metadata": {},
     "output_type": "execute_result"
    }
   ],
   "source": [
    "annotate_tem['Characteristics[organism part]']"
   ]
  },
  {
   "cell_type": "code",
   "execution_count": 8,
   "metadata": {},
   "outputs": [],
   "source": [
    "organism = annotate_tem['Characteristics[organism part]']\n",
    "removed_ids = annotate_tem['Source Name'][organism == '  ']\n"
   ]
  },
  {
   "cell_type": "code",
   "execution_count": 9,
   "metadata": {},
   "outputs": [
    {
     "data": {
      "text/plain": [
       "5163"
      ]
     },
     "execution_count": 9,
     "metadata": {},
     "output_type": "execute_result"
    }
   ],
   "source": [
    "len(removed_ids)\n",
    "# There are a few samples with missing organsisms, but maybe we can still use them for the training and testing pipeline. "
   ]
  },
  {
   "cell_type": "code",
   "execution_count": 10,
   "metadata": {},
   "outputs": [],
   "source": [
    "ori_pickle_trans = pd.read_pickle(\n",
    "    '/mnt/dzl_bioinf/binliu/deepRNA/data_all_samples/all_samples_transcript_level.pkl')\n"
   ]
  },
  {
   "cell_type": "code",
   "execution_count": 11,
   "metadata": {},
   "outputs": [],
   "source": [
    "ori_pickle_trans = ori_pickle_trans.astype(float)"
   ]
  },
  {
   "cell_type": "code",
   "execution_count": 12,
   "metadata": {},
   "outputs": [
    {
     "data": {
      "text/plain": [
       "(27887, 54675)"
      ]
     },
     "execution_count": 12,
     "metadata": {},
     "output_type": "execute_result"
    }
   ],
   "source": [
    "ori_pickle_trans.shape"
   ]
  },
  {
   "cell_type": "code",
   "execution_count": 13,
   "metadata": {},
   "outputs": [
    {
     "data": {
      "text/plain": [
       "0"
      ]
     },
     "execution_count": 13,
     "metadata": {},
     "output_type": "execute_result"
    }
   ],
   "source": [
    "sum(annotate_tem['Source Name'] != ori_pickle_trans.index)"
   ]
  },
  {
   "cell_type": "code",
   "execution_count": 14,
   "metadata": {},
   "outputs": [],
   "source": [
    "organism_dis = organism.value_counts().to_dict()\n"
   ]
  },
  {
   "cell_type": "code",
   "execution_count": 15,
   "metadata": {},
   "outputs": [],
   "source": [
    "removed_organism = []"
   ]
  },
  {
   "cell_type": "code",
   "execution_count": 16,
   "metadata": {},
   "outputs": [],
   "source": [
    "for key in organism_dis:\n",
    "    if organism_dis[key]  == 1:\n",
    "        removed_organism.append(key)"
   ]
  },
  {
   "cell_type": "code",
   "execution_count": 17,
   "metadata": {},
   "outputs": [
    {
     "data": {
      "text/plain": [
       "24"
      ]
     },
     "execution_count": 17,
     "metadata": {},
     "output_type": "execute_result"
    }
   ],
   "source": [
    "len(removed_organism)"
   ]
  },
  {
   "cell_type": "code",
   "execution_count": 18,
   "metadata": {},
   "outputs": [],
   "source": [
    "removed_ids = [row['Source Name']\n",
    "               for _, row in annotate_tem.iterrows() if row['Characteristics[organism part]'] in removed_organism]\n",
    "new_organism = [row['Characteristics[organism part]']\n",
    "                for _, row in annotate_tem.iterrows() if row['Characteristics[organism part]'] not in removed_organism]\n"
   ]
  },
  {
   "cell_type": "code",
   "execution_count": 19,
   "metadata": {},
   "outputs": [],
   "source": [
    "ori_pickle_trans = ori_pickle_trans[~ori_pickle_trans.index.isin(removed_ids)]\n"
   ]
  },
  {
   "cell_type": "code",
   "execution_count": 20,
   "metadata": {},
   "outputs": [
    {
     "data": {
      "text/plain": [
       "(27863, 54675)"
      ]
     },
     "execution_count": 20,
     "metadata": {},
     "output_type": "execute_result"
    }
   ],
   "source": [
    "ori_pickle_trans.shape"
   ]
  },
  {
   "cell_type": "code",
   "execution_count": 21,
   "metadata": {},
   "outputs": [],
   "source": [
    "df_train_trans,  df_test_trans, train_tem_label,  test_tem_label = train_test_split(\n",
    "    ori_pickle_trans, new_organism, train_size=0.90, random_state=42, stratify=new_organism)\n"
   ]
  },
  {
   "cell_type": "code",
   "execution_count": 22,
   "metadata": {},
   "outputs": [
    {
     "name": "stdout",
     "output_type": "stream",
     "text": [
      "(25076, 54675)\n",
      "(2787, 54675)\n"
     ]
    }
   ],
   "source": [
    "print(df_train_trans.shape)\n",
    "print(df_test_trans.shape)"
   ]
  },
  {
   "cell_type": "code",
   "execution_count": 24,
   "metadata": {},
   "outputs": [],
   "source": [
    "df_train_trans.to_pickle(\n",
    "    '/mnt/dzl_bioinf/binliu/deepRNA/data_all_samples/transcript_level_train_test/all_samples_transcript_level_train.pkl')\n",
    "df_test_trans.to_pickle(\n",
    "    '/mnt/dzl_bioinf/binliu/deepRNA/data_all_samples/transcript_level_train_test/all_samples_transcript_level_test.pkl')\n"
   ]
  },
  {
   "cell_type": "code",
   "execution_count": 25,
   "metadata": {},
   "outputs": [],
   "source": [
    "train_index = df_train_trans.index\n",
    "test_index = df_test_trans.index"
   ]
  },
  {
   "cell_type": "code",
   "execution_count": 26,
   "metadata": {},
   "outputs": [],
   "source": [
    "ori_pickle_gene = pd.read_pickle(\n",
    "    '/mnt/dzl_bioinf/binliu/deepRNA/data_all_samples/all_samples_gene_level.pkl')\n"
   ]
  },
  {
   "cell_type": "code",
   "execution_count": 31,
   "metadata": {},
   "outputs": [],
   "source": [
    "df_train_genes = ori_pickle_gene.loc[train_index]\n",
    "df_test_genes = ori_pickle_gene.loc[test_index]"
   ]
  },
  {
   "cell_type": "code",
   "execution_count": 32,
   "metadata": {},
   "outputs": [
    {
     "data": {
      "text/plain": [
       "Index(['Sample 10832', 'Sample 17689', 'Sample 25789', 'Sample 6156',\n",
       "       'Sample 15773'],\n",
       "      dtype='object', name='CompositeSequence Identifier')"
      ]
     },
     "execution_count": 32,
     "metadata": {},
     "output_type": "execute_result"
    }
   ],
   "source": [
    "df_train_genes.index[0:5]"
   ]
  },
  {
   "cell_type": "code",
   "execution_count": 33,
   "metadata": {},
   "outputs": [],
   "source": [
    "df_train_genes.to_pickle(\n",
    "    '/mnt/dzl_bioinf/binliu/deepRNA/data_all_samples/gene_level_train_test/all_samples_gene_level_train.pkl')\n",
    "df_test_genes.to_pickle(\n",
    "    '/mnt/dzl_bioinf/binliu/deepRNA/data_all_samples/gene_level_train_test/all_samples_gene_level_test.pkl')\n"
   ]
  },
  {
   "cell_type": "code",
   "execution_count": 34,
   "metadata": {},
   "outputs": [],
   "source": [
    "ori_pickle_community = pd.read_pickle(\n",
    "    '/mnt/dzl_bioinf/binliu/deepRNA/data_all_samples/all_samples_community_level.pkl')\n"
   ]
  },
  {
   "cell_type": "code",
   "execution_count": 35,
   "metadata": {},
   "outputs": [],
   "source": [
    "df_train_communities = ori_pickle_community.loc[train_index]\n",
    "df_test_communities = ori_pickle_community.loc[test_index]\n"
   ]
  },
  {
   "cell_type": "code",
   "execution_count": 36,
   "metadata": {},
   "outputs": [],
   "source": [
    "df_train_communities.to_pickle(\n",
    "    '/mnt/dzl_bioinf/binliu/deepRNA/data_all_samples/community_level_train_test/all_samples_community_level_train.pkl')\n",
    "df_test_communities.to_pickle(\n",
    "    '/mnt/dzl_bioinf/binliu/deepRNA/data_all_samples/community_level_train_test/all_samples_community_level_test.pkl')\n"
   ]
  }
 ],
 "metadata": {
  "kernelspec": {
   "display_name": "Python 3 (ipykernel)",
   "language": "python",
   "name": "python3"
  },
  "language_info": {
   "codemirror_mode": {
    "name": "ipython",
    "version": 3
   },
   "file_extension": ".py",
   "mimetype": "text/x-python",
   "name": "python",
   "nbconvert_exporter": "python",
   "pygments_lexer": "ipython3",
   "version": "3.7.12"
  },
  "orig_nbformat": 4
 },
 "nbformat": 4,
 "nbformat_minor": 2
}
