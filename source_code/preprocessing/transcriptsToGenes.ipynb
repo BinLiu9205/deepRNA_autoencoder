{
 "cells": [
  {
   "cell_type": "code",
   "execution_count": 1,
   "metadata": {},
   "outputs": [],
   "source": [
    "import pandas as pd\n",
    "import json\n",
    "import numpy as np\n",
    "import matplotlib as plt"
   ]
  },
  {
   "cell_type": "code",
   "execution_count": 2,
   "metadata": {},
   "outputs": [],
   "source": [
    "with open('/mnt/dzl_bioinf/binliu/jupyter/important_supportive_files/platform_annotation.json') as json_file:\n",
    "    data = json.load(json_file)\n"
   ]
  },
  {
   "cell_type": "code",
   "execution_count": 3,
   "metadata": {},
   "outputs": [
    {
     "data": {
      "text/plain": [
       "dict_keys(['gene_to_id_relationship', 'gene_to_index_relationship', 'id_to_gene_relationship', 'index_to_gene_relationship'])"
      ]
     },
     "execution_count": 3,
     "metadata": {},
     "output_type": "execute_result"
    }
   ],
   "source": [
    "data.keys()"
   ]
  },
  {
   "cell_type": "code",
   "execution_count": 4,
   "metadata": {},
   "outputs": [
    {
     "data": {
      "text/plain": [
       "24442"
      ]
     },
     "execution_count": 4,
     "metadata": {},
     "output_type": "execute_result"
    }
   ],
   "source": [
    "len(data['gene_to_index_relationship'].keys())"
   ]
  },
  {
   "cell_type": "code",
   "execution_count": 5,
   "metadata": {},
   "outputs": [],
   "source": [
    "gene_map = data['gene_to_index_relationship']\n",
    "trimmed_gene_map = {}\n",
    "reversed_gene_map = {}"
   ]
  },
  {
   "cell_type": "code",
   "execution_count": 6,
   "metadata": {},
   "outputs": [],
   "source": [
    "for key in gene_map:\n",
    "    if str(gene_map[key]) not in reversed_gene_map:\n",
    "        trimmed_gene_map[key] = gene_map[key]\n",
    "        reversed_gene_map[str(gene_map[key])] = key\n",
    "    "
   ]
  },
  {
   "cell_type": "code",
   "execution_count": 7,
   "metadata": {},
   "outputs": [
    {
     "data": {
      "text/plain": [
       "23375"
      ]
     },
     "execution_count": 7,
     "metadata": {},
     "output_type": "execute_result"
    }
   ],
   "source": [
    "len(trimmed_gene_map.keys())"
   ]
  },
  {
   "cell_type": "code",
   "execution_count": 8,
   "metadata": {},
   "outputs": [
    {
     "data": {
      "text/plain": [
       "['DDR1', 'RFC2', 'HSPA6', 'PAX8', 'GUCA1A']"
      ]
     },
     "execution_count": 8,
     "metadata": {},
     "output_type": "execute_result"
    }
   ],
   "source": [
    "list(trimmed_gene_map.keys())[0:5]"
   ]
  },
  {
   "cell_type": "markdown",
   "metadata": {},
   "source": [
    "RMA is the log2 sensitivity"
   ]
  },
  {
   "cell_type": "code",
   "execution_count": 9,
   "metadata": {},
   "outputs": [],
   "source": [
    "def transcriptsToGenes(df, indexJson):\n",
    "    newDf = []\n",
    "    df_trans = df.apply(lambda x: np.exp2(x)\n",
    "        if np.issubdtype(x.dtype, np.number) else x)\n",
    "    for key in indexJson.keys():\n",
    "        indexNr = indexJson[key]\n",
    "        df_tem = df_trans.iloc[:, indexNr]\n",
    "        log_tem = df_tem.mean(axis = 1) \n",
    "        newDf.append(np.log2(log_tem))\n",
    "    newDf = np.array(newDf)  \n",
    "    print(newDf.shape)\n",
    "    newDf = np.array(newDf.transpose())  \n",
    "    return newDf\n"
   ]
  },
  {
   "cell_type": "code",
   "execution_count": 10,
   "metadata": {},
   "outputs": [],
   "source": [
    "X_train_original = pd.read_csv(\n",
    "    \"/mnt/dzl_bioinf/binliu/jupyter/newTrial_June/Training_set_lung_related_comparison_filtered_characteristics_without_zscore.csv\", index_col=0)\n",
    "X_test_original = pd.read_csv(\n",
    "    \"/mnt/dzl_bioinf/binliu/jupyter/newTrial_June/Testing_set_lung_related_comparison_filtered_characteristics_without_zscore.csv\", index_col=0)\n"
   ]
  },
  {
   "cell_type": "code",
   "execution_count": 11,
   "metadata": {},
   "outputs": [
    {
     "data": {
      "text/plain": [
       "Index(['Sample 18233', 'Sample 13285', 'Sample 8106', 'Sample 6234',\n",
       "       'Sample 19793'],\n",
       "      dtype='object')"
      ]
     },
     "execution_count": 11,
     "metadata": {},
     "output_type": "execute_result"
    }
   ],
   "source": [
    "X_train_original.index[0:5]"
   ]
  },
  {
   "cell_type": "code",
   "execution_count": 12,
   "metadata": {},
   "outputs": [
    {
     "data": {
      "text/plain": [
       "(969, 54675)"
      ]
     },
     "execution_count": 12,
     "metadata": {},
     "output_type": "execute_result"
    }
   ],
   "source": [
    "X_train_original.shape"
   ]
  },
  {
   "cell_type": "code",
   "execution_count": 13,
   "metadata": {},
   "outputs": [
    {
     "name": "stdout",
     "output_type": "stream",
     "text": [
      "(23375, 969)\n",
      "(23375, 243)\n"
     ]
    }
   ],
   "source": [
    "X_train_trans = transcriptsToGenes(X_train_original, trimmed_gene_map)\n",
    "X_test_trans = transcriptsToGenes(X_test_original, trimmed_gene_map)\n"
   ]
  },
  {
   "cell_type": "code",
   "execution_count": 14,
   "metadata": {},
   "outputs": [
    {
     "data": {
      "text/plain": [
       "(969, 23375)"
      ]
     },
     "execution_count": 14,
     "metadata": {},
     "output_type": "execute_result"
    }
   ],
   "source": [
    "X_train_trans.shape\n"
   ]
  },
  {
   "cell_type": "code",
   "execution_count": 15,
   "metadata": {},
   "outputs": [],
   "source": [
    "X_train_trans = pd.DataFrame(X_train_trans)\n",
    "X_train_trans.columns = list(trimmed_gene_map.keys())\n",
    "\n",
    "X_test_trans = pd.DataFrame(X_test_trans)\n",
    "X_test_trans.columns = list(trimmed_gene_map.keys())\n"
   ]
  },
  {
   "cell_type": "code",
   "execution_count": 16,
   "metadata": {},
   "outputs": [
    {
     "data": {
      "text/plain": [
       "(969, 23375)"
      ]
     },
     "execution_count": 16,
     "metadata": {},
     "output_type": "execute_result"
    }
   ],
   "source": [
    "X_train_trans.shape"
   ]
  },
  {
   "cell_type": "code",
   "execution_count": 17,
   "metadata": {},
   "outputs": [],
   "source": [
    "X_train_trans = X_train_trans.set_index(X_train_original.index)\n",
    "X_test_trans = X_test_trans.set_index(X_test_original.index)\n"
   ]
  },
  {
   "cell_type": "code",
   "execution_count": 18,
   "metadata": {},
   "outputs": [
    {
     "data": {
      "text/html": [
       "<div>\n",
       "<style scoped>\n",
       "    .dataframe tbody tr th:only-of-type {\n",
       "        vertical-align: middle;\n",
       "    }\n",
       "\n",
       "    .dataframe tbody tr th {\n",
       "        vertical-align: top;\n",
       "    }\n",
       "\n",
       "    .dataframe thead th {\n",
       "        text-align: right;\n",
       "    }\n",
       "</style>\n",
       "<table border=\"1\" class=\"dataframe\">\n",
       "  <thead>\n",
       "    <tr style=\"text-align: right;\">\n",
       "      <th></th>\n",
       "      <th>DDR1</th>\n",
       "      <th>RFC2</th>\n",
       "      <th>HSPA6</th>\n",
       "      <th>PAX8</th>\n",
       "      <th>GUCA1A</th>\n",
       "      <th>MIR5193</th>\n",
       "      <th>THRA</th>\n",
       "      <th>PTPN21</th>\n",
       "      <th>CCL5</th>\n",
       "      <th>CYP2E1</th>\n",
       "      <th>...</th>\n",
       "      <th>RP11-1260E13.2</th>\n",
       "      <th>LOC389641</th>\n",
       "      <th>LOC388210</th>\n",
       "      <th>GALR3</th>\n",
       "      <th>MINOS1-NBL1</th>\n",
       "      <th>MROH7-TTC4</th>\n",
       "      <th>LOC102725263</th>\n",
       "      <th>LOC100129924</th>\n",
       "      <th>FAM86B1</th>\n",
       "      <th>LOC100505915</th>\n",
       "    </tr>\n",
       "  </thead>\n",
       "  <tbody>\n",
       "    <tr>\n",
       "      <th>Sample 18027</th>\n",
       "      <td>8.286647</td>\n",
       "      <td>8.778014</td>\n",
       "      <td>5.719112</td>\n",
       "      <td>5.740817</td>\n",
       "      <td>4.770105</td>\n",
       "      <td>5.957019</td>\n",
       "      <td>5.860171</td>\n",
       "      <td>6.877582</td>\n",
       "      <td>5.008319</td>\n",
       "      <td>4.071695</td>\n",
       "      <td>...</td>\n",
       "      <td>3.681713</td>\n",
       "      <td>5.604763</td>\n",
       "      <td>6.141193</td>\n",
       "      <td>6.350975</td>\n",
       "      <td>8.221830</td>\n",
       "      <td>8.296557</td>\n",
       "      <td>5.252952</td>\n",
       "      <td>7.458464</td>\n",
       "      <td>7.114612</td>\n",
       "      <td>5.351243</td>\n",
       "    </tr>\n",
       "    <tr>\n",
       "      <th>Sample 15090</th>\n",
       "      <td>7.720009</td>\n",
       "      <td>9.536140</td>\n",
       "      <td>5.294903</td>\n",
       "      <td>6.060922</td>\n",
       "      <td>4.839062</td>\n",
       "      <td>6.059284</td>\n",
       "      <td>6.639906</td>\n",
       "      <td>6.062086</td>\n",
       "      <td>5.089347</td>\n",
       "      <td>4.469101</td>\n",
       "      <td>...</td>\n",
       "      <td>4.015105</td>\n",
       "      <td>6.275057</td>\n",
       "      <td>5.780378</td>\n",
       "      <td>7.443035</td>\n",
       "      <td>7.752670</td>\n",
       "      <td>7.584391</td>\n",
       "      <td>5.478762</td>\n",
       "      <td>7.211306</td>\n",
       "      <td>6.431838</td>\n",
       "      <td>5.184802</td>\n",
       "    </tr>\n",
       "    <tr>\n",
       "      <th>Sample 1079</th>\n",
       "      <td>7.949118</td>\n",
       "      <td>9.012287</td>\n",
       "      <td>4.977478</td>\n",
       "      <td>5.630500</td>\n",
       "      <td>5.076723</td>\n",
       "      <td>5.680711</td>\n",
       "      <td>5.783451</td>\n",
       "      <td>4.603414</td>\n",
       "      <td>4.784699</td>\n",
       "      <td>5.312954</td>\n",
       "      <td>...</td>\n",
       "      <td>3.932505</td>\n",
       "      <td>5.305056</td>\n",
       "      <td>6.416820</td>\n",
       "      <td>6.312691</td>\n",
       "      <td>6.812580</td>\n",
       "      <td>9.155571</td>\n",
       "      <td>6.890808</td>\n",
       "      <td>7.699365</td>\n",
       "      <td>8.021113</td>\n",
       "      <td>5.201118</td>\n",
       "    </tr>\n",
       "    <tr>\n",
       "      <th>Sample 22054</th>\n",
       "      <td>8.325994</td>\n",
       "      <td>7.010395</td>\n",
       "      <td>6.584074</td>\n",
       "      <td>6.450426</td>\n",
       "      <td>5.130109</td>\n",
       "      <td>6.885721</td>\n",
       "      <td>7.923863</td>\n",
       "      <td>4.988619</td>\n",
       "      <td>11.846953</td>\n",
       "      <td>4.624328</td>\n",
       "      <td>...</td>\n",
       "      <td>4.352141</td>\n",
       "      <td>5.786269</td>\n",
       "      <td>6.362093</td>\n",
       "      <td>6.448705</td>\n",
       "      <td>8.058335</td>\n",
       "      <td>7.239457</td>\n",
       "      <td>6.045572</td>\n",
       "      <td>5.991857</td>\n",
       "      <td>7.225467</td>\n",
       "      <td>6.230511</td>\n",
       "    </tr>\n",
       "    <tr>\n",
       "      <th>Sample 1868</th>\n",
       "      <td>8.662481</td>\n",
       "      <td>6.269327</td>\n",
       "      <td>6.651002</td>\n",
       "      <td>5.837634</td>\n",
       "      <td>4.720309</td>\n",
       "      <td>7.196297</td>\n",
       "      <td>6.748047</td>\n",
       "      <td>5.901297</td>\n",
       "      <td>5.540625</td>\n",
       "      <td>4.414413</td>\n",
       "      <td>...</td>\n",
       "      <td>4.525248</td>\n",
       "      <td>5.444155</td>\n",
       "      <td>5.666740</td>\n",
       "      <td>6.811448</td>\n",
       "      <td>9.963658</td>\n",
       "      <td>7.532813</td>\n",
       "      <td>5.755404</td>\n",
       "      <td>7.181243</td>\n",
       "      <td>5.912508</td>\n",
       "      <td>5.955501</td>\n",
       "    </tr>\n",
       "  </tbody>\n",
       "</table>\n",
       "<p>5 rows × 23375 columns</p>\n",
       "</div>"
      ],
      "text/plain": [
       "                  DDR1      RFC2     HSPA6      PAX8    GUCA1A   MIR5193  \\\n",
       "Sample 18027  8.286647  8.778014  5.719112  5.740817  4.770105  5.957019   \n",
       "Sample 15090  7.720009  9.536140  5.294903  6.060922  4.839062  6.059284   \n",
       "Sample 1079   7.949118  9.012287  4.977478  5.630500  5.076723  5.680711   \n",
       "Sample 22054  8.325994  7.010395  6.584074  6.450426  5.130109  6.885721   \n",
       "Sample 1868   8.662481  6.269327  6.651002  5.837634  4.720309  7.196297   \n",
       "\n",
       "                  THRA    PTPN21       CCL5    CYP2E1  ...  RP11-1260E13.2  \\\n",
       "Sample 18027  5.860171  6.877582   5.008319  4.071695  ...        3.681713   \n",
       "Sample 15090  6.639906  6.062086   5.089347  4.469101  ...        4.015105   \n",
       "Sample 1079   5.783451  4.603414   4.784699  5.312954  ...        3.932505   \n",
       "Sample 22054  7.923863  4.988619  11.846953  4.624328  ...        4.352141   \n",
       "Sample 1868   6.748047  5.901297   5.540625  4.414413  ...        4.525248   \n",
       "\n",
       "              LOC389641  LOC388210     GALR3  MINOS1-NBL1  MROH7-TTC4  \\\n",
       "Sample 18027   5.604763   6.141193  6.350975     8.221830    8.296557   \n",
       "Sample 15090   6.275057   5.780378  7.443035     7.752670    7.584391   \n",
       "Sample 1079    5.305056   6.416820  6.312691     6.812580    9.155571   \n",
       "Sample 22054   5.786269   6.362093  6.448705     8.058335    7.239457   \n",
       "Sample 1868    5.444155   5.666740  6.811448     9.963658    7.532813   \n",
       "\n",
       "              LOC102725263  LOC100129924   FAM86B1  LOC100505915  \n",
       "Sample 18027      5.252952      7.458464  7.114612      5.351243  \n",
       "Sample 15090      5.478762      7.211306  6.431838      5.184802  \n",
       "Sample 1079       6.890808      7.699365  8.021113      5.201118  \n",
       "Sample 22054      6.045572      5.991857  7.225467      6.230511  \n",
       "Sample 1868       5.755404      7.181243  5.912508      5.955501  \n",
       "\n",
       "[5 rows x 23375 columns]"
      ]
     },
     "execution_count": 18,
     "metadata": {},
     "output_type": "execute_result"
    }
   ],
   "source": [
    "X_test_trans.head(5)"
   ]
  },
  {
   "cell_type": "code",
   "execution_count": 19,
   "metadata": {},
   "outputs": [],
   "source": [
    "X_train_trans.to_csv(\n",
    "    \"/mnt/dzl_bioinf/binliu/jupyter/newTrial_June/Training_set_lung_related_filtered_characteristics_transcripts_to_genes.csv\")\n",
    "X_test_trans.to_csv(\n",
    "    \"/mnt/dzl_bioinf/binliu/jupyter/newTrial_June/Testing_set_lung_related_filtered_characteristics_transcripts_to_genes.csv\")\n"
   ]
  },
  {
   "cell_type": "code",
   "execution_count": 20,
   "metadata": {},
   "outputs": [
    {
     "data": {
      "text/html": [
       "<div>\n",
       "<style scoped>\n",
       "    .dataframe tbody tr th:only-of-type {\n",
       "        vertical-align: middle;\n",
       "    }\n",
       "\n",
       "    .dataframe tbody tr th {\n",
       "        vertical-align: top;\n",
       "    }\n",
       "\n",
       "    .dataframe thead th {\n",
       "        text-align: right;\n",
       "    }\n",
       "</style>\n",
       "<table border=\"1\" class=\"dataframe\">\n",
       "  <thead>\n",
       "    <tr style=\"text-align: right;\">\n",
       "      <th></th>\n",
       "      <th>DDR1</th>\n",
       "      <th>RFC2</th>\n",
       "      <th>HSPA6</th>\n",
       "      <th>PAX8</th>\n",
       "      <th>GUCA1A</th>\n",
       "      <th>MIR5193</th>\n",
       "      <th>THRA</th>\n",
       "      <th>PTPN21</th>\n",
       "      <th>CCL5</th>\n",
       "      <th>CYP2E1</th>\n",
       "      <th>...</th>\n",
       "      <th>RP11-1260E13.2</th>\n",
       "      <th>LOC389641</th>\n",
       "      <th>LOC388210</th>\n",
       "      <th>GALR3</th>\n",
       "      <th>MINOS1-NBL1</th>\n",
       "      <th>MROH7-TTC4</th>\n",
       "      <th>LOC102725263</th>\n",
       "      <th>LOC100129924</th>\n",
       "      <th>FAM86B1</th>\n",
       "      <th>LOC100505915</th>\n",
       "    </tr>\n",
       "  </thead>\n",
       "  <tbody>\n",
       "    <tr>\n",
       "      <th>count</th>\n",
       "      <td>969.000000</td>\n",
       "      <td>969.000000</td>\n",
       "      <td>969.000000</td>\n",
       "      <td>969.000000</td>\n",
       "      <td>969.000000</td>\n",
       "      <td>969.000000</td>\n",
       "      <td>969.000000</td>\n",
       "      <td>969.000000</td>\n",
       "      <td>969.000000</td>\n",
       "      <td>969.000000</td>\n",
       "      <td>...</td>\n",
       "      <td>969.000000</td>\n",
       "      <td>969.000000</td>\n",
       "      <td>969.000000</td>\n",
       "      <td>969.000000</td>\n",
       "      <td>969.000000</td>\n",
       "      <td>969.000000</td>\n",
       "      <td>969.000000</td>\n",
       "      <td>969.000000</td>\n",
       "      <td>969.000000</td>\n",
       "      <td>969.000000</td>\n",
       "    </tr>\n",
       "    <tr>\n",
       "      <th>mean</th>\n",
       "      <td>8.793174</td>\n",
       "      <td>7.649572</td>\n",
       "      <td>6.288666</td>\n",
       "      <td>5.885322</td>\n",
       "      <td>4.855492</td>\n",
       "      <td>6.910412</td>\n",
       "      <td>6.479475</td>\n",
       "      <td>5.817285</td>\n",
       "      <td>6.707066</td>\n",
       "      <td>4.437924</td>\n",
       "      <td>...</td>\n",
       "      <td>4.144125</td>\n",
       "      <td>5.422992</td>\n",
       "      <td>6.137692</td>\n",
       "      <td>6.491413</td>\n",
       "      <td>9.304737</td>\n",
       "      <td>8.059831</td>\n",
       "      <td>5.284511</td>\n",
       "      <td>7.122127</td>\n",
       "      <td>7.149075</td>\n",
       "      <td>5.361286</td>\n",
       "    </tr>\n",
       "    <tr>\n",
       "      <th>std</th>\n",
       "      <td>0.950621</td>\n",
       "      <td>1.060699</td>\n",
       "      <td>1.290227</td>\n",
       "      <td>0.416090</td>\n",
       "      <td>0.271350</td>\n",
       "      <td>0.837294</td>\n",
       "      <td>0.472115</td>\n",
       "      <td>0.773728</td>\n",
       "      <td>1.954733</td>\n",
       "      <td>0.389361</td>\n",
       "      <td>...</td>\n",
       "      <td>0.540274</td>\n",
       "      <td>0.410451</td>\n",
       "      <td>0.410609</td>\n",
       "      <td>0.526542</td>\n",
       "      <td>1.101802</td>\n",
       "      <td>0.526306</td>\n",
       "      <td>0.561487</td>\n",
       "      <td>0.452003</td>\n",
       "      <td>0.649700</td>\n",
       "      <td>0.460210</td>\n",
       "    </tr>\n",
       "    <tr>\n",
       "      <th>min</th>\n",
       "      <td>6.008509</td>\n",
       "      <td>5.156328</td>\n",
       "      <td>4.541173</td>\n",
       "      <td>5.064254</td>\n",
       "      <td>4.208028</td>\n",
       "      <td>5.308939</td>\n",
       "      <td>5.533454</td>\n",
       "      <td>4.147579</td>\n",
       "      <td>4.169040</td>\n",
       "      <td>3.805276</td>\n",
       "      <td>...</td>\n",
       "      <td>3.241336</td>\n",
       "      <td>4.418116</td>\n",
       "      <td>4.708860</td>\n",
       "      <td>5.231012</td>\n",
       "      <td>6.241819</td>\n",
       "      <td>6.553453</td>\n",
       "      <td>4.092541</td>\n",
       "      <td>5.733769</td>\n",
       "      <td>5.495675</td>\n",
       "      <td>4.445744</td>\n",
       "    </tr>\n",
       "    <tr>\n",
       "      <th>25%</th>\n",
       "      <td>8.197887</td>\n",
       "      <td>6.809270</td>\n",
       "      <td>5.269288</td>\n",
       "      <td>5.602474</td>\n",
       "      <td>4.707093</td>\n",
       "      <td>6.177212</td>\n",
       "      <td>6.148553</td>\n",
       "      <td>5.270156</td>\n",
       "      <td>4.974075</td>\n",
       "      <td>4.215020</td>\n",
       "      <td>...</td>\n",
       "      <td>3.789326</td>\n",
       "      <td>5.095141</td>\n",
       "      <td>5.870549</td>\n",
       "      <td>6.109458</td>\n",
       "      <td>8.507443</td>\n",
       "      <td>7.711739</td>\n",
       "      <td>4.892751</td>\n",
       "      <td>6.791006</td>\n",
       "      <td>6.692010</td>\n",
       "      <td>5.037851</td>\n",
       "    </tr>\n",
       "    <tr>\n",
       "      <th>50%</th>\n",
       "      <td>8.658086</td>\n",
       "      <td>7.604883</td>\n",
       "      <td>5.869949</td>\n",
       "      <td>5.806009</td>\n",
       "      <td>4.839467</td>\n",
       "      <td>6.863295</td>\n",
       "      <td>6.434690</td>\n",
       "      <td>5.751460</td>\n",
       "      <td>5.796297</td>\n",
       "      <td>4.344177</td>\n",
       "      <td>...</td>\n",
       "      <td>4.036595</td>\n",
       "      <td>5.422194</td>\n",
       "      <td>6.120858</td>\n",
       "      <td>6.456641</td>\n",
       "      <td>9.302789</td>\n",
       "      <td>8.031485</td>\n",
       "      <td>5.200465</td>\n",
       "      <td>7.108426</td>\n",
       "      <td>7.126096</td>\n",
       "      <td>5.261189</td>\n",
       "    </tr>\n",
       "    <tr>\n",
       "      <th>75%</th>\n",
       "      <td>9.380710</td>\n",
       "      <td>8.483443</td>\n",
       "      <td>7.099806</td>\n",
       "      <td>6.140118</td>\n",
       "      <td>4.963086</td>\n",
       "      <td>7.609631</td>\n",
       "      <td>6.673553</td>\n",
       "      <td>6.253697</td>\n",
       "      <td>8.501022</td>\n",
       "      <td>4.535499</td>\n",
       "      <td>...</td>\n",
       "      <td>4.379320</td>\n",
       "      <td>5.726638</td>\n",
       "      <td>6.414266</td>\n",
       "      <td>6.802762</td>\n",
       "      <td>10.212440</td>\n",
       "      <td>8.410403</td>\n",
       "      <td>5.607509</td>\n",
       "      <td>7.424915</td>\n",
       "      <td>7.539516</td>\n",
       "      <td>5.590653</td>\n",
       "    </tr>\n",
       "    <tr>\n",
       "      <th>max</th>\n",
       "      <td>11.972830</td>\n",
       "      <td>10.126958</td>\n",
       "      <td>12.131079</td>\n",
       "      <td>8.827204</td>\n",
       "      <td>9.717002</td>\n",
       "      <td>9.068628</td>\n",
       "      <td>9.272979</td>\n",
       "      <td>7.934412</td>\n",
       "      <td>13.754547</td>\n",
       "      <td>7.103314</td>\n",
       "      <td>...</td>\n",
       "      <td>7.047099</td>\n",
       "      <td>7.091780</td>\n",
       "      <td>7.292745</td>\n",
       "      <td>8.102788</td>\n",
       "      <td>12.595417</td>\n",
       "      <td>10.117183</td>\n",
       "      <td>7.686139</td>\n",
       "      <td>9.056274</td>\n",
       "      <td>9.469112</td>\n",
       "      <td>7.252285</td>\n",
       "    </tr>\n",
       "  </tbody>\n",
       "</table>\n",
       "<p>8 rows × 23375 columns</p>\n",
       "</div>"
      ],
      "text/plain": [
       "             DDR1        RFC2       HSPA6        PAX8      GUCA1A     MIR5193  \\\n",
       "count  969.000000  969.000000  969.000000  969.000000  969.000000  969.000000   \n",
       "mean     8.793174    7.649572    6.288666    5.885322    4.855492    6.910412   \n",
       "std      0.950621    1.060699    1.290227    0.416090    0.271350    0.837294   \n",
       "min      6.008509    5.156328    4.541173    5.064254    4.208028    5.308939   \n",
       "25%      8.197887    6.809270    5.269288    5.602474    4.707093    6.177212   \n",
       "50%      8.658086    7.604883    5.869949    5.806009    4.839467    6.863295   \n",
       "75%      9.380710    8.483443    7.099806    6.140118    4.963086    7.609631   \n",
       "max     11.972830   10.126958   12.131079    8.827204    9.717002    9.068628   \n",
       "\n",
       "             THRA      PTPN21        CCL5      CYP2E1  ...  RP11-1260E13.2  \\\n",
       "count  969.000000  969.000000  969.000000  969.000000  ...      969.000000   \n",
       "mean     6.479475    5.817285    6.707066    4.437924  ...        4.144125   \n",
       "std      0.472115    0.773728    1.954733    0.389361  ...        0.540274   \n",
       "min      5.533454    4.147579    4.169040    3.805276  ...        3.241336   \n",
       "25%      6.148553    5.270156    4.974075    4.215020  ...        3.789326   \n",
       "50%      6.434690    5.751460    5.796297    4.344177  ...        4.036595   \n",
       "75%      6.673553    6.253697    8.501022    4.535499  ...        4.379320   \n",
       "max      9.272979    7.934412   13.754547    7.103314  ...        7.047099   \n",
       "\n",
       "        LOC389641   LOC388210       GALR3  MINOS1-NBL1  MROH7-TTC4  \\\n",
       "count  969.000000  969.000000  969.000000   969.000000  969.000000   \n",
       "mean     5.422992    6.137692    6.491413     9.304737    8.059831   \n",
       "std      0.410451    0.410609    0.526542     1.101802    0.526306   \n",
       "min      4.418116    4.708860    5.231012     6.241819    6.553453   \n",
       "25%      5.095141    5.870549    6.109458     8.507443    7.711739   \n",
       "50%      5.422194    6.120858    6.456641     9.302789    8.031485   \n",
       "75%      5.726638    6.414266    6.802762    10.212440    8.410403   \n",
       "max      7.091780    7.292745    8.102788    12.595417   10.117183   \n",
       "\n",
       "       LOC102725263  LOC100129924     FAM86B1  LOC100505915  \n",
       "count    969.000000    969.000000  969.000000    969.000000  \n",
       "mean       5.284511      7.122127    7.149075      5.361286  \n",
       "std        0.561487      0.452003    0.649700      0.460210  \n",
       "min        4.092541      5.733769    5.495675      4.445744  \n",
       "25%        4.892751      6.791006    6.692010      5.037851  \n",
       "50%        5.200465      7.108426    7.126096      5.261189  \n",
       "75%        5.607509      7.424915    7.539516      5.590653  \n",
       "max        7.686139      9.056274    9.469112      7.252285  \n",
       "\n",
       "[8 rows x 23375 columns]"
      ]
     },
     "execution_count": 20,
     "metadata": {},
     "output_type": "execute_result"
    }
   ],
   "source": [
    "X_train_trans.describe()"
   ]
  },
  {
   "cell_type": "code",
   "execution_count": 21,
   "metadata": {},
   "outputs": [
    {
     "data": {
      "text/plain": [
       "array([[<AxesSubplot:title={'center':'DDR1'}>]], dtype=object)"
      ]
     },
     "execution_count": 21,
     "metadata": {},
     "output_type": "execute_result"
    },
    {
     "data": {
      "image/png": "[encoded data removed]",
      "text/plain": [
       "<Figure size 432x288 with 1 Axes>"
      ]
     },
     "metadata": {
      "needs_background": "light"
     },
     "output_type": "display_data"
    }
   ],
   "source": [
    "pd.DataFrame(X_train_trans['DDR1']).hist()\n"
   ]
  }
 ],
 "metadata": {
  "kernelspec": {
   "display_name": "Python 3 (ipykernel)",
   "language": "python",
   "name": "python3"
  },
  "language_info": {
   "codemirror_mode": {
    "name": "ipython",
    "version": 3
   },
   "file_extension": ".py",
   "mimetype": "text/x-python",
   "name": "python",
   "nbconvert_exporter": "python",
   "pygments_lexer": "ipython3",
   "version": "3.7.12"
  },
  "orig_nbformat": 4
 },
 "nbformat": 4,
 "nbformat_minor": 2
}
