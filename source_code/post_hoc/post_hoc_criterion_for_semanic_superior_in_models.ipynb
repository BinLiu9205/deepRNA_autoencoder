{
 "cells": [
  {
   "cell_type": "code",
   "execution_count": 10,
   "metadata": {},
   "outputs": [],
   "source": [
    "import json\n",
    "import os\n",
    "import pandas as pd\n",
    "import numpy as np\n",
    "from functools import reduce\n",
    "import re\n",
    "from collections import Counter\n",
    "from statsmodels.stats.weightstats import ztest as ztest\n",
    "from scipy.stats import pearsonr as pearsonr\n",
    "import math\n",
    "import matplotlib.pyplot as plt\n",
    "import seaborn as sns\n",
    "seed = 42\n",
    "np.random.seed(seed)\n"
   ]
  },
  {
   "cell_type": "code",
   "execution_count": 11,
   "metadata": {},
   "outputs": [],
   "source": [
    "f_dir2_mu = os.listdir(\n",
    "    \"/mnt/dzl_bioinf/binliu/deepRNA/data_and_results_all_samples_gene_no_earlystopping_500_epochs_sigma_mu_while_training/sigma_mu_VAE/mean\")\n",
    "dir2_mu = \"/mnt/dzl_bioinf/binliu/deepRNA/data_and_results_all_samples_gene_no_earlystopping_500_epochs_sigma_mu_while_training/sigma_mu_VAE/mean/\"\n",
    "f_dir2_var = os.listdir(\n",
    "    \"/mnt/dzl_bioinf/binliu/deepRNA/data_and_results_all_samples_gene_no_earlystopping_500_epochs_sigma_mu_while_training/sigma_mu_VAE/var\")\n",
    "dir2_var = \"/mnt/dzl_bioinf/binliu/deepRNA/data_and_results_all_samples_gene_no_earlystopping_500_epochs_sigma_mu_while_training/sigma_mu_VAE/var/\"\n",
    "dir2_root = \"/mnt/dzl_bioinf/binliu/deepRNA/data_and_results_all_samples_gene_no_earlystopping_500_epochs_sigma_mu_while_training/\"\n",
    "add_f2 = \"gene + \"\n"
   ]
  },
  {
   "cell_type": "code",
   "execution_count": 12,
   "metadata": {},
   "outputs": [],
   "source": [
    "prior_list = ['priorVAE', 'beta_priorVAE']"
   ]
  },
  {
   "cell_type": "code",
   "execution_count": 13,
   "metadata": {},
   "outputs": [],
   "source": [
    "all_res_mu = [dir2_mu + i for i in f_dir2_mu]\n",
    "all_res_var = [dir2_var + i for i in f_dir2_var]\n",
    "name_list = [add_f2 + i[0:-len('mean_results_vae.npy')] for i in f_dir2_mu]\n",
    "anno2 = 'gene'\n",
    "annoName2 = '/mnt/dzl_bioinf/binliu/deepRNA/data_all_samples/prior_distribution/bootstrap_mean_MsigDB_' + anno2 + '_level.csv'\n",
    "annoList = [annoName2 for i in range(len(f_dir2_mu))]\n",
    "annoName2Sig = '/mnt/dzl_bioinf/binliu/deepRNA/data_all_samples/prior_distribution/bootstrap_sigma_MsigDB_' + anno2 + '_level.csv'\n",
    "annoListSig = [annoName2Sig for i in range(len(f_dir2_mu))]\n"
   ]
  },
  {
   "cell_type": "code",
   "execution_count": 14,
   "metadata": {},
   "outputs": [],
   "source": [
    "test2 = 'gene'\n",
    "trainName2 = '/mnt/dzl_bioinf/binliu/deepRNA/data_all_samples/' + \\\n",
    "    test2 + '_level_train_test/all_samples_' + test2 + '_level_train.pkl'\n",
    "trainList = [trainName2 for i in range(len(f_dir2_mu))]\n",
    "testName2 = '/mnt/dzl_bioinf/binliu/deepRNA/data_all_samples/' + \\\n",
    "    test2 + '_level_train_test/all_samples_' + test2 + '_level_test.pkl'\n",
    "testList = [testName2 for i in range(len(f_dir2_mu))]\n"
   ]
  },
  {
   "cell_type": "code",
   "execution_count": 40,
   "metadata": {},
   "outputs": [],
   "source": [
    "main_dir = '/mnt/dzl_bioinf/binliu/deepRNA/deepRNA/deepRNA_Py/post_hoc_all_samples/no_early_stopping_500_epochs_new_sigma_mu/'\n",
    "pdf_dir = 'ms_prior_real_mu_dimensional_correlation_pdf'\n"
   ]
  },
  {
   "cell_type": "code",
   "execution_count": 16,
   "metadata": {},
   "outputs": [],
   "source": [
    "\n",
    "anno = pd.read_csv(\n",
    "    \"/mnt/dzl_bioinf/binliu/deepRNA/data_all_samples/prior_distribution/bootstrap_mean_MsigDB_transcript_level.csv\", index_col=0)\n",
    "anno_name = list(anno.columns)\n",
    "anno_name = [single[9:] for single in anno_name]\n"
   ]
  },
  {
   "cell_type": "code",
   "execution_count": 27,
   "metadata": {},
   "outputs": [],
   "source": [
    "save_all_res_mean_correlation = {}\n",
    "for counter in range(len(all_res_mu)):\n",
    "    latent_mean = np.load(all_res_mu[counter])\n",
    "    latent_var = np.load(all_res_var[counter])\n",
    "    test_shape = latent_mean.shape[0]\n",
    "\n",
    "    mu_prior = pd.read_csv(annoList[counter], index_col=0)\n",
    "    var_prior = pd.read_csv(\n",
    "        annoListSig[counter], index_col=0)\n",
    "\n",
    "    X_test = pd.read_pickle(testList[counter])\n",
    "    index_df_test = X_test.index\n",
    "    transcripts_nr = X_test.shape[1]\n",
    "    colnames_df = X_test.columns\n",
    "    X_test.columns = colnames_df\n",
    "    X_test.set_index(index_df_test, inplace=True)\n",
    "    pathway_nr = mu_prior.shape[1]\n",
    "    mu_prior = mu_prior.add_suffix('_mu')\n",
    "    var_prior = var_prior.add_suffix('_sigma')\n",
    "    X_test = X_test.join(mu_prior)\n",
    "    X_test = X_test.join(var_prior)\n",
    "\n",
    "    mu_prior_test = X_test.iloc[:, transcripts_nr:(transcripts_nr+pathway_nr)]\n",
    "    var_prior_test = X_test.iloc[:, (transcripts_nr+pathway_nr):]\n",
    "    final_corr = []\n",
    "    \n",
    "    if all_res_mu[counter].find('prior') != -1:\n",
    "        for j in range(mu_prior_test.shape[1]):\n",
    "            corr = pearsonr(latent_mean[:, j], mu_prior_test.iloc[:, j])[0]\n",
    "            final_corr.append(corr)\n",
    "        save_all_res_mean_correlation[name_list[counter]] = final_corr\n",
    "        #print(name_list[counter])\n",
    "    else: continue\n",
    "    \n",
    "    \n",
    "    \n",
    "    \n"
   ]
  },
  {
   "cell_type": "code",
   "execution_count": 32,
   "metadata": {},
   "outputs": [],
   "source": [
    "all_corr_mean = pd.DataFrame(save_all_res_mean_correlation)\n"
   ]
  },
  {
   "cell_type": "code",
   "execution_count": 38,
   "metadata": {},
   "outputs": [],
   "source": [
    "all_corr_mean_melted = pd.melt(all_corr_mean)\n"
   ]
  },
  {
   "cell_type": "code",
   "execution_count": 39,
   "metadata": {},
   "outputs": [
    {
     "data": {
      "text/plain": [
       "<AxesSubplot:xlabel='variable', ylabel='value'>"
      ]
     },
     "execution_count": 39,
     "metadata": {},
     "output_type": "execute_result"
    },
    {
     "data": {
      "image/png": "[encoded data removed]",
      "text/plain": [
       "<Figure size 432x288 with 1 Axes>"
      ]
     },
     "metadata": {
      "needs_background": "light"
     },
     "output_type": "display_data"
    }
   ],
   "source": [
    "sns.boxplot(x='variable', y='value', data=all_corr_mean_melted)\n"
   ]
  },
  {
   "cell_type": "code",
   "execution_count": 49,
   "metadata": {},
   "outputs": [],
   "source": [
    "ax = sns.boxplot(x='variable', y='value', data=all_corr_mean_melted)\n",
    "ax.set(xlabel='Model name', ylabel='The correlation across dimensions')\n",
    "plt.gcf().set_size_inches(4.2, 4.7)\n",
    "plt.xticks(rotation=270)\n",
    "plt.tight_layout()\n",
    "plt.savefig(main_dir + pdf_dir + '/' +\n",
    "            name_list[counter] + 'boxplot_average_correlation.pdf')\n",
    "plt.close()\n"
   ]
  }
 ],
 "metadata": {
  "kernelspec": {
   "display_name": "Python 3 (ipykernel)",
   "language": "python",
   "name": "python3"
  },
  "language_info": {
   "codemirror_mode": {
    "name": "ipython",
    "version": 3
   },
   "file_extension": ".py",
   "mimetype": "text/x-python",
   "name": "python",
   "nbconvert_exporter": "python",
   "pygments_lexer": "ipython3",
   "version": "3.7.12"
  },
  "orig_nbformat": 4
 },
 "nbformat": 4,
 "nbformat_minor": 2
}
