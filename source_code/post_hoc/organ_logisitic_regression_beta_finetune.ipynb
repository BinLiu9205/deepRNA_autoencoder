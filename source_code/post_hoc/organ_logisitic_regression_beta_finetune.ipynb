{
 "cells": [
  {
   "cell_type": "code",
   "execution_count": 1,
   "metadata": {
    "execution": {
     "iopub.execute_input": "2023-02-22T13:55:33.121050Z",
     "iopub.status.busy": "2023-02-22T13:55:33.120339Z",
     "iopub.status.idle": "2023-02-22T13:55:35.554863Z",
     "shell.execute_reply": "2023-02-22T13:55:35.555784Z"
    }
   },
   "outputs": [],
   "source": [
    "import json\n",
    "import os\n",
    "import pandas as pd\n",
    "import numpy as np\n",
    "from functools import reduce\n",
    "import re\n",
    "from collections import Counter\n",
    "import math\n",
    "import matplotlib.pyplot as plt\n",
    "from sklearn.linear_model import LogisticRegression\n",
    "from sklearn.model_selection import train_test_split\n",
    "from sklearn.metrics import classification_report\n",
    "from sklearn.model_selection import cross_validate\n",
    "import seaborn as sns\n",
    "import copy\n",
    "from statistics import mean\n",
    "seed = 42\n",
    "np.random.seed(seed)\n",
    "import argparse"
   ]
  },
  {
   "cell_type": "code",
   "execution_count": 2,
   "metadata": {
    "execution": {
     "iopub.execute_input": "2023-02-22T13:55:35.560201Z",
     "iopub.status.busy": "2023-02-22T13:55:35.559041Z",
     "iopub.status.idle": "2023-02-22T13:55:35.565323Z",
     "shell.execute_reply": "2023-02-22T13:55:35.566129Z"
    }
   },
   "outputs": [],
   "source": [
    "beta_file = \"/mnt/dzl_bioinf/binliu/deepRNA/deepRNA/deepRNA_Py/post_hoc_all_samples/beta_finetune/post_hoc_scripts/selected_betas.txt\"\n",
    "\n",
    "beta_val = []\n",
    "with open(beta_file, 'r') as f:\n",
    "    for line in f:\n",
    "        beta_val.append(int(line.strip()))\n",
    "\n",
    "f.close()\n"
   ]
  },
  {
   "cell_type": "code",
   "execution_count": 3,
   "metadata": {
    "execution": {
     "iopub.execute_input": "2023-02-22T13:55:35.569701Z",
     "iopub.status.busy": "2023-02-22T13:55:35.568613Z",
     "iopub.status.idle": "2023-02-22T13:55:35.573181Z",
     "shell.execute_reply": "2023-02-22T13:55:35.573947Z"
    }
   },
   "outputs": [],
   "source": [
    "prior_list = []\n",
    "simple_list = []"
   ]
  },
  {
   "cell_type": "code",
   "execution_count": 4,
   "metadata": {
    "execution": {
     "iopub.execute_input": "2023-02-22T13:55:35.577460Z",
     "iopub.status.busy": "2023-02-22T13:55:35.576370Z",
     "iopub.status.idle": "2023-02-22T13:55:35.581069Z",
     "shell.execute_reply": "2023-02-22T13:55:35.581835Z"
    }
   },
   "outputs": [],
   "source": [
    "root_dir = \"/mnt/dzl_bioinf/binliu/deepRNA/beta_finetuning_results/\"\n"
   ]
  },
  {
   "cell_type": "code",
   "execution_count": 5,
   "metadata": {
    "execution": {
     "iopub.execute_input": "2023-02-22T13:55:35.585416Z",
     "iopub.status.busy": "2023-02-22T13:55:35.584312Z",
     "iopub.status.idle": "2023-02-22T13:55:35.589888Z",
     "shell.execute_reply": "2023-02-22T13:55:35.590665Z"
    }
   },
   "outputs": [],
   "source": [
    "prior_list.append(\n",
    "    \"/mnt/dzl_bioinf/binliu/deepRNA/data_and_results_all_samples_gene_no_earlystopping_500_epochs_sigma_mu_while_training/new_latent_results/priorVAE.npy\")\n",
    "prior_list.append(\n",
    "    \"/mnt/dzl_bioinf/binliu/deepRNA/data_and_results_all_samples_gene_no_earlystopping_500_epochs_sigma_mu_while_training/new_latent_results/beta_priorVAE.npy\")\n",
    "for i in beta_val:\n",
    "    prior_list.append(root_dir + 'results_for_beta_' +\n",
    "                      str(i) + '/new_latent_results/beta_priorVAE.npy')\n"
   ]
  },
  {
   "cell_type": "code",
   "execution_count": 6,
   "metadata": {
    "execution": {
     "iopub.execute_input": "2023-02-22T13:55:35.594367Z",
     "iopub.status.busy": "2023-02-22T13:55:35.593189Z",
     "iopub.status.idle": "2023-02-22T13:55:35.598924Z",
     "shell.execute_reply": "2023-02-22T13:55:35.599687Z"
    }
   },
   "outputs": [],
   "source": [
    "simple_list.append(\n",
    "    \"/mnt/dzl_bioinf/binliu/deepRNA/data_and_results_all_samples_gene_no_earlystopping_500_epochs_sigma_mu_while_training/new_latent_results/simpleVAE.npy\")\n",
    "simple_list.append(\n",
    "    \"/mnt/dzl_bioinf/binliu/deepRNA/data_and_results_all_samples_gene_no_earlystopping_500_epochs_sigma_mu_while_training/new_latent_results/beta_simpleVAE.npy\")\n",
    "for i in beta_val:\n",
    "    simple_list.append(root_dir + 'results_for_beta_' +\n",
    "                      str(i) + '/new_latent_results/beta_simpleVAE.npy')\n"
   ]
  },
  {
   "cell_type": "code",
   "execution_count": 7,
   "metadata": {
    "execution": {
     "iopub.execute_input": "2023-02-22T13:55:35.603230Z",
     "iopub.status.busy": "2023-02-22T13:55:35.602134Z",
     "iopub.status.idle": "2023-02-22T13:55:35.609085Z",
     "shell.execute_reply": "2023-02-22T13:55:35.609864Z"
    }
   },
   "outputs": [],
   "source": [
    "main_dir = '/mnt/dzl_bioinf/binliu/deepRNA/deepRNA/deepRNA_Py/post_hoc_all_samples/no_early_stopping_500_epochs_new_sigma_mu/'\n",
    "pdf_dir = 'criterion_pdf'\n",
    "\n",
    "\n",
    "path_new = os.path.join(main_dir, pdf_dir)\n",
    "os.makedirs(path_new, exist_ok=True)\n"
   ]
  },
  {
   "cell_type": "code",
   "execution_count": 8,
   "metadata": {
    "execution": {
     "iopub.execute_input": "2023-02-22T13:55:35.613365Z",
     "iopub.status.busy": "2023-02-22T13:55:35.612277Z",
     "iopub.status.idle": "2023-02-22T13:55:35.617060Z",
     "shell.execute_reply": "2023-02-22T13:55:35.617839Z"
    }
   },
   "outputs": [],
   "source": [
    "final_betas = [1, 250, *beta_val]"
   ]
  },
  {
   "cell_type": "code",
   "execution_count": 9,
   "metadata": {
    "execution": {
     "iopub.execute_input": "2023-02-22T13:55:35.621470Z",
     "iopub.status.busy": "2023-02-22T13:55:35.620323Z",
     "iopub.status.idle": "2023-02-22T13:55:51.753653Z",
     "shell.execute_reply": "2023-02-22T13:55:51.754490Z"
    }
   },
   "outputs": [],
   "source": [
    "annotate_tem = pd.read_excel(\n",
    "    \"/mnt/dzl_bioinf/binliu/EMBL_ExpressionArray/arrayExpress_annotation.xlsx\")\n",
    "X_test = pd.read_pickle(\n",
    "    '/mnt/dzl_bioinf/binliu/deepRNA/data_all_samples/community_level_train_test/all_samples_community_level_test.pkl')\n",
    "annotate_tem = annotate_tem.set_index('Source Name')\n",
    "annotate_test = annotate_tem.reindex(index=X_test.index)\n",
    "annotate_test['normalStatus'] = (\n",
    "    annotate_test['Characteristics[disease]'] == 'normal')\n",
    "colors = {True: 'blue', False: 'red'}\n",
    "organism = pd.unique(annotate_test['Characteristics[organism part]'])\n",
    "organism_dis = annotate_test['Characteristics[organism part]'].value_counts()\n",
    "organism_counts = pd.DataFrame(organism_dis)\n",
    "organism_counts = organism_counts.reset_index()\n",
    "organism_counts.columns = ['unique_organs',\n",
    "                           'counts for sample']  # change column names\n",
    "interested_organs = organism_counts.iloc[1:9, 0]\n",
    "organism = pd.unique(annotate_test['Characteristics[organism part]'])\n",
    "organism_dis = annotate_test['Characteristics[organism part]'].value_counts()\n",
    "organism_counts = pd.DataFrame(organism_dis)\n",
    "organism_counts = organism_counts.reset_index()\n",
    "organism_counts.columns = ['unique_organs',\n",
    "                           'counts for sample']  # change column names\n",
    "interested_organs = organism_counts.iloc[1:9, 0]\n",
    "idxs = []\n",
    "organ_list = []\n",
    "for i in interested_organs:\n",
    "    tem_idx = annotate_test['Characteristics[organism part]'] == i\n",
    "    tem_anno = annotate_test.index[tem_idx]\n",
    "    idxs = [*idxs, *tem_anno]\n",
    "    organ_list_tem = [i] * len(tem_anno)\n",
    "    #print(organ_list_tem)\n",
    "    organ_list = [*organ_list, *organ_list_tem]\n",
    "\n",
    "idxs_loc = [annotate_test.index.get_loc(idx) for idx in idxs]\n"
   ]
  },
  {
   "cell_type": "markdown",
   "metadata": {},
   "source": [
    "Run the logisitic regression on the prior models:"
   ]
  },
  {
   "cell_type": "code",
   "execution_count": 10,
   "metadata": {
    "execution": {
     "iopub.execute_input": "2023-02-22T13:55:51.758504Z",
     "iopub.status.busy": "2023-02-22T13:55:51.757409Z",
     "iopub.status.idle": "2023-02-22T13:55:51.762421Z",
     "shell.execute_reply": "2023-02-22T13:55:51.763188Z"
    }
   },
   "outputs": [],
   "source": [
    "all_accu = []\n",
    "all_accu_sd = []\n",
    "ave_pre = []\n",
    "ave_pre_sd = []\n"
   ]
  },
  {
   "cell_type": "code",
   "execution_count": 11,
   "metadata": {
    "execution": {
     "iopub.execute_input": "2023-02-22T13:55:51.766804Z",
     "iopub.status.busy": "2023-02-22T13:55:51.765671Z",
     "iopub.status.idle": "2023-02-22T13:57:34.300137Z",
     "shell.execute_reply": "2023-02-22T13:57:34.300987Z"
    }
   },
   "outputs": [],
   "source": [
    "for model in prior_list:\n",
    "    res = np.load(model)    \n",
    "    X = res[idxs_loc, :]\n",
    "    y_tem = organ_list\n",
    "    single_accu = []\n",
    "    single_accu_sd = []\n",
    "    single_ave_pre = []\n",
    "    single_ave_pre_sd = []\n",
    "    for k in interested_organs:\n",
    "        y = copy.deepcopy(y_tem)\n",
    "        y = [1 if x == k else 0 for x in y_tem]\n",
    "        logreg = LogisticRegression(solver='lbfgs', max_iter=8000)\n",
    "\n",
    "        scores = cross_validate(logreg, X, y, cv=5, scoring=(\n",
    "            'accuracy', 'f1', 'roc_auc', 'average_precision'), return_train_score=True)\n",
    "        # DO something to iterate over 8 different organs\n",
    "        single_accu.append(scores['test_accuracy'].mean())\n",
    "        single_accu_sd.append(scores['test_accuracy'].std())\n",
    "        single_ave_pre.append(scores['test_average_precision'].mean())\n",
    "        single_ave_pre_sd.append(scores['test_average_precision'].std())\n",
    "\n",
    "\n",
    "    all_accu.append(mean(single_accu))\n",
    "    all_accu_sd.append(mean(single_accu_sd))\n",
    "    ave_pre.append(mean(single_ave_pre))\n",
    "    ave_pre_sd.append(mean(single_ave_pre_sd))\n",
    "\n",
    "    \n"
   ]
  },
  {
   "cell_type": "code",
   "execution_count": 12,
   "metadata": {
    "execution": {
     "iopub.execute_input": "2023-02-22T13:57:34.305212Z",
     "iopub.status.busy": "2023-02-22T13:57:34.304087Z",
     "iopub.status.idle": "2023-02-22T13:57:34.311213Z",
     "shell.execute_reply": "2023-02-22T13:57:34.311982Z"
    }
   },
   "outputs": [],
   "source": [
    "df_prior = pd.DataFrame({'beta_value': final_betas, 'accuracy_mean': all_accu, 'accuracy_sd': all_accu_sd,\n",
    "                  'average_precision_mean': ave_pre, 'average_precision_sd': ave_pre_sd})\n"
   ]
  },
  {
   "cell_type": "code",
   "execution_count": 13,
   "metadata": {
    "execution": {
     "iopub.execute_input": "2023-02-22T13:57:34.315547Z",
     "iopub.status.busy": "2023-02-22T13:57:34.314456Z",
     "iopub.status.idle": "2023-02-22T13:57:34.320428Z",
     "shell.execute_reply": "2023-02-22T13:57:34.321212Z"
    }
   },
   "outputs": [],
   "source": [
    "df_prior = df_prior.sort_values(['beta_value'])"
   ]
  },
  {
   "cell_type": "code",
   "execution_count": 14,
   "metadata": {
    "execution": {
     "iopub.execute_input": "2023-02-22T13:57:34.324745Z",
     "iopub.status.busy": "2023-02-22T13:57:34.323654Z",
     "iopub.status.idle": "2023-02-22T13:57:34.329527Z",
     "shell.execute_reply": "2023-02-22T13:57:34.330317Z"
    }
   },
   "outputs": [],
   "source": [
    "df_prior['beta_value'] = df_prior['beta_value'].astype('str')"
   ]
  },
  {
   "cell_type": "code",
   "execution_count": 15,
   "metadata": {
    "execution": {
     "iopub.execute_input": "2023-02-22T13:57:34.333878Z",
     "iopub.status.busy": "2023-02-22T13:57:34.332772Z",
     "iopub.status.idle": "2023-02-22T13:57:34.864506Z",
     "shell.execute_reply": "2023-02-22T13:57:34.865309Z"
    }
   },
   "outputs": [
    {
     "data": {
      "image/png": "[encoded data removed]",
      "text/plain": [
       "<Figure size 273.6x244.8 with 1 Axes>"
      ]
     },
     "metadata": {
      "needs_background": "light"
     },
     "output_type": "display_data"
    }
   ],
   "source": [
    "\n",
    "width = 10\n",
    "height = 8\n",
    "plt.figure(figsize=(width, height))\n",
    "plt.bar(df_prior['beta_value'], df_prior['average_precision_mean'])\n",
    "plt.xlabel('Beta Values')\n",
    "plt.ylabel('Average Precision Score')\n",
    "plt.errorbar(df_prior['beta_value'], df_prior['average_precision_mean'], df_prior['average_precision_sd'], fmt='.', color='Black', elinewidth=2,\n",
    "             capthick=10, errorevery=1, alpha=0.5, ms=4, capsize=2)\n",
    "plt.xticks(rotation=270)\n",
    "plt.gcf().set_size_inches(3.8, 3.4)\n",
    "plt.tight_layout()\n",
    "plt.savefig(main_dir + pdf_dir + '/' + 'beta_priorVAE_regression_accuracy_plot.pdf')\n"
   ]
  },
  {
   "cell_type": "markdown",
   "metadata": {},
   "source": [
    "Run the logisitic regression on the simple models:"
   ]
  },
  {
   "cell_type": "code",
   "execution_count": 16,
   "metadata": {
    "execution": {
     "iopub.execute_input": "2023-02-22T13:57:34.869233Z",
     "iopub.status.busy": "2023-02-22T13:57:34.868094Z",
     "iopub.status.idle": "2023-02-22T13:57:34.873172Z",
     "shell.execute_reply": "2023-02-22T13:57:34.873946Z"
    }
   },
   "outputs": [],
   "source": [
    "all_accu = []\n",
    "all_accu_sd = []\n",
    "ave_pre = []\n",
    "ave_pre_sd = []\n"
   ]
  },
  {
   "cell_type": "code",
   "execution_count": 17,
   "metadata": {
    "execution": {
     "iopub.execute_input": "2023-02-22T13:57:34.877571Z",
     "iopub.status.busy": "2023-02-22T13:57:34.876429Z",
     "iopub.status.idle": "2023-02-22T13:57:49.277035Z",
     "shell.execute_reply": "2023-02-22T13:57:49.277889Z"
    }
   },
   "outputs": [],
   "source": [
    "for model in simple_list:\n",
    "    res = np.load(model)\n",
    "    X = res[idxs_loc, :]\n",
    "    y_tem = organ_list\n",
    "    single_accu = []\n",
    "    single_accu_sd = []\n",
    "    single_ave_pre = []\n",
    "    single_ave_pre_sd = []\n",
    "    for k in interested_organs:\n",
    "        y = copy.deepcopy(y_tem)\n",
    "        y = [1 if x == k else 0 for x in y_tem]\n",
    "        logreg = LogisticRegression(solver='lbfgs', max_iter=8000)\n",
    "\n",
    "        scores = cross_validate(logreg, X, y, cv=5, scoring=(\n",
    "            'accuracy', 'f1', 'roc_auc', 'average_precision'), return_train_score=True)\n",
    "        # DO something to iterate over 8 different organs\n",
    "        single_accu.append(scores['test_accuracy'].mean())\n",
    "        single_accu_sd.append(scores['test_accuracy'].std())\n",
    "        single_ave_pre.append(scores['test_average_precision'].mean())\n",
    "        single_ave_pre_sd.append(scores['test_average_precision'].std())\n",
    "\n",
    "    all_accu.append(mean(single_accu))\n",
    "    all_accu_sd.append(mean(single_accu_sd))\n",
    "    ave_pre.append(mean(single_ave_pre))\n",
    "    ave_pre_sd.append(mean(single_ave_pre_sd))\n"
   ]
  },
  {
   "cell_type": "code",
   "execution_count": 18,
   "metadata": {
    "execution": {
     "iopub.execute_input": "2023-02-22T13:57:49.282111Z",
     "iopub.status.busy": "2023-02-22T13:57:49.280990Z",
     "iopub.status.idle": "2023-02-22T13:57:49.288190Z",
     "shell.execute_reply": "2023-02-22T13:57:49.288969Z"
    }
   },
   "outputs": [],
   "source": [
    "df_simple = pd.DataFrame({'beta_value': final_betas, 'accuracy_mean': all_accu, 'accuracy_sd': all_accu_sd,\n",
    "                         'average_precision_mean': ave_pre, 'average_precision_sd': ave_pre_sd})\n"
   ]
  },
  {
   "cell_type": "code",
   "execution_count": 19,
   "metadata": {
    "execution": {
     "iopub.execute_input": "2023-02-22T13:57:49.292524Z",
     "iopub.status.busy": "2023-02-22T13:57:49.291403Z",
     "iopub.status.idle": "2023-02-22T13:57:49.297357Z",
     "shell.execute_reply": "2023-02-22T13:57:49.298130Z"
    }
   },
   "outputs": [],
   "source": [
    "df_simple = df_simple.sort_values(['beta_value'])\n"
   ]
  },
  {
   "cell_type": "code",
   "execution_count": 20,
   "metadata": {
    "execution": {
     "iopub.execute_input": "2023-02-22T13:57:49.301679Z",
     "iopub.status.busy": "2023-02-22T13:57:49.300583Z",
     "iopub.status.idle": "2023-02-22T13:57:49.306183Z",
     "shell.execute_reply": "2023-02-22T13:57:49.306972Z"
    }
   },
   "outputs": [],
   "source": [
    "df_simple['beta_value'] = df_simple['beta_value'].astype('str')\n"
   ]
  },
  {
   "cell_type": "code",
   "execution_count": 21,
   "metadata": {
    "execution": {
     "iopub.execute_input": "2023-02-22T13:57:49.310583Z",
     "iopub.status.busy": "2023-02-22T13:57:49.309473Z",
     "iopub.status.idle": "2023-02-22T13:57:49.652724Z",
     "shell.execute_reply": "2023-02-22T13:57:49.653496Z"
    }
   },
   "outputs": [
    {
     "data": {
      "image/png": "[encoded data removed]",
      "text/plain": [
       "<Figure size 273.6x244.8 with 1 Axes>"
      ]
     },
     "metadata": {
      "needs_background": "light"
     },
     "output_type": "display_data"
    }
   ],
   "source": [
    "width = 10\n",
    "height = 8\n",
    "plt.figure(figsize=(width, height))\n",
    "plt.bar(df_simple['beta_value'], df_simple['average_precision_mean'])\n",
    "plt.xlabel('Beta Values')\n",
    "plt.ylabel('Average Precision Score')\n",
    "plt.errorbar(df_simple['beta_value'], df_simple['average_precision_mean'], df_simple['average_precision_sd'], fmt='.', color='Black', elinewidth=2,\n",
    "             capthick=10, errorevery=1, alpha=0.5, ms=4, capsize=2)\n",
    "plt.xticks(rotation=270)\n",
    "plt.gcf().set_size_inches(3.8, 3.4)\n",
    "plt.tight_layout()\n",
    "plt.savefig(main_dir + pdf_dir + '/' +\n",
    "            'beta_simpleVAE_regression_accuracy_plot.pdf')\n"
   ]
  }
 ],
 "metadata": {
  "kernelspec": {
   "display_name": "Python 3 (ipykernel)",
   "language": "python",
   "name": "python3"
  },
  "language_info": {
   "codemirror_mode": {
    "name": "ipython",
    "version": 3
   },
   "file_extension": ".py",
   "mimetype": "text/x-python",
   "name": "python",
   "nbconvert_exporter": "python",
   "pygments_lexer": "ipython3",
   "version": "3.7.12"
  }
 },
 "nbformat": 4,
 "nbformat_minor": 2
}
